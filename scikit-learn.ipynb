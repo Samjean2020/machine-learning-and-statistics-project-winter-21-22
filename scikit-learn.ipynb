{
 "cells": [
  {
   "cell_type": "markdown",
   "id": "64fdd510",
   "metadata": {},
   "source": [
    "## Scikit-Learn Jupyter Notebook"
   ]
  },
  {
   "cell_type": "markdown",
   "id": "b91ad90c",
   "metadata": {},
   "source": [
    "# Introduction"
   ]
  },
  {
   "cell_type": "markdown",
   "id": "0487e2cb",
   "metadata": {},
   "source": [
    "### The Author is: Jean Bonsenge"
   ]
  },
  {
   "cell_type": "markdown",
   "id": "44c4fae8",
   "metadata": {},
   "source": [
    "### Instructions\n",
    "\n",
    "The purpose of this assessment is to ensure that you have achieved the learning outcomes of the module while also providing you with sample work to show prospective employers. The overall assessment is split into the three components as detailed below.\n",
    "The percentages beside each bullet point indicate the weighting of that item in your overall mark. Note, however, that the examiners’ overall impression of your submission may override the individual weightings where deemed appropriate."
   ]
  },
  {
   "cell_type": "markdown",
   "id": "e0abd906",
   "metadata": {},
   "source": [
    "Include a Jupyter notebook called scikit-learn.ipynb that contains the following.\n",
    "A clear and concise overview of the scikit-learn Python library [3].\n",
    "Demonstrations of three interesting scikit-learn algorithms. You may choose\n",
    "these yourself, based on what is covered in class or otherwise. Note that the\n",
    "demonstrations are at your discretion – you may choose to have an overall spread\n",
    "of examples across the library or pick a particular part that you find interesting.\n",
    "Appropriate plots and other visualisations to enhance your notebook for viewers."
   ]
  },
  {
   "cell_type": "markdown",
   "id": "693f29bd",
   "metadata": {},
   "source": [
    "### References\n",
    "\n",
    "[1] Scikit-learn: Machine Learning in Python. Available at: https://scikit-learn.org/stable/index.html (Accessed 19/10/2021)\n",
    "\n",
    "[2] Supervised learning. Available at: https://scikit-learn.org/stable/supervised_learning.html#supervised-learning (Accessed 19/10/2021)\n",
    "\n",
    "[3] Scikit-learn: machine learning in Python — scikit-learn 1.0.1 documentation - scikit-learn 0.24.1 documentation. Available at:https://scikit-learn.org/stable/index.html (Accessed 20/10/2021)\n",
    "\n",
    "[4]Scikit-learn: Machine Learning in Python, Pedregosa et al., JMLR 12, pp. 2825-2830, 2011. Available at: https://scikit-learn.org/stable/about.html (Accessed 20/10/2021)\n"
   ]
  },
  {
   "cell_type": "markdown",
   "id": "ba4b4ed5",
   "metadata": {},
   "source": [
    "### Development"
   ]
  },
  {
   "cell_type": "markdown",
   "id": "5f5f6cdb",
   "metadata": {},
   "source": [
    "### Overview of the scikit-learn Python library"
   ]
  },
  {
   "cell_type": "markdown",
   "id": "145366eb",
   "metadata": {},
   "source": [
    "Scikit-learn can be defined as a simple and efficient tool for predictive data analysis, built on NumPy, SciPy and matplotlib [1]. It is open source and commercially usable.  It a Python programming language component and was created by David Cournapeau in 2007. Since 2010 Fabien Pedregosa and many more developers have continued with the scikit-learn project [4].\n",
    "\n",
    "Classification, regression, clustering, dimensionality reduction, model selection and pre-processing are the main operations scikit-learn performs [1]. \n",
    "\n",
    "#### Classification\n",
    "\n",
    "Classification involves categorising an object; its applications comprise spam detection and image recognition and algorithms include SVM (Support Vector Machines), nearest neighbors, random forest, stochastic gradient descent, Gaussian processes, cross decomposition, neural network models (supervised) and many more [1], [2].\n",
    "\n",
    "#### Regression\n",
    "\n",
    "#### Clustering\n",
    "\n",
    "#### Dimensionality reduction\n",
    "#### Model selection\n",
    "#### Pre-processing\n"
   ]
  },
  {
   "cell_type": "markdown",
   "id": "552ba9a2",
   "metadata": {},
   "source": [
    "### Demonstrations of three interesting scikit-learn algorithms\n"
   ]
  },
  {
   "cell_type": "code",
   "execution_count": null,
   "id": "3abdfa06",
   "metadata": {},
   "outputs": [],
   "source": []
  },
  {
   "cell_type": "markdown",
   "id": "de606d78",
   "metadata": {},
   "source": [
    "### Plots and other visualisations"
   ]
  },
  {
   "cell_type": "markdown",
   "id": "4b37d62e",
   "metadata": {},
   "source": [
    "***\n",
    "# End."
   ]
  },
  {
   "cell_type": "code",
   "execution_count": null,
   "id": "54cad0c5",
   "metadata": {},
   "outputs": [],
   "source": []
  }
 ],
 "metadata": {
  "kernelspec": {
   "display_name": "Python 3",
   "language": "python",
   "name": "python3"
  },
  "language_info": {
   "codemirror_mode": {
    "name": "ipython",
    "version": 3
   },
   "file_extension": ".py",
   "mimetype": "text/x-python",
   "name": "python",
   "nbconvert_exporter": "python",
   "pygments_lexer": "ipython3",
   "version": "3.8.8"
  }
 },
 "nbformat": 4,
 "nbformat_minor": 5
}
