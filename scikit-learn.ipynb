{
 "cells": [
  {
   "cell_type": "markdown",
   "id": "64fdd510",
   "metadata": {},
   "source": [
    "## Scikit-Learn Jupyter Notebook"
   ]
  },
  {
   "cell_type": "markdown",
   "id": "b91ad90c",
   "metadata": {},
   "source": [
    "# Introduction"
   ]
  },
  {
   "cell_type": "markdown",
   "id": "0487e2cb",
   "metadata": {},
   "source": [
    "### Author's name: Jean Bonsenge"
   ]
  },
  {
   "cell_type": "markdown",
   "id": "44c4fae8",
   "metadata": {},
   "source": [
    "### Instructions\n",
    "\n",
    "The purpose of this assessment is to ensure that you have achieved the learning outcomes of the module while also providing you with sample work to show prospective employers. The overall assessment is split into the three components as detailed below.\n",
    "The percentages beside each bullet point indicate the weighting of that item in your overall mark. Note, however, that the examiners’ overall impression of your submission may override the individual weightings where deemed appropriate."
   ]
  },
  {
   "cell_type": "markdown",
   "id": "e0abd906",
   "metadata": {},
   "source": [
    "Include a Jupyter notebook called scikit-learn.ipynb that contains the following.\n",
    "A clear and concise overview of the scikit-learn Python library [3].\n",
    "Demonstrations of three interesting scikit-learn algorithms. You may choose\n",
    "these yourself, based on what is covered in class or otherwise. Note that the\n",
    "demonstrations are at your discretion – you may choose to have an overall spread\n",
    "of examples across the library or pick a particular part that you find interesting.\n",
    "Appropriate plots and other visualisations to enhance your notebook for viewers."
   ]
  },
  {
   "cell_type": "markdown",
   "id": "8165c1a4",
   "metadata": {},
   "source": []
  },
  {
   "cell_type": "code",
   "execution_count": null,
   "id": "941cc63e",
   "metadata": {},
   "outputs": [],
   "source": []
  },
  {
   "cell_type": "markdown",
   "id": "5f5f6cdb",
   "metadata": {},
   "source": [
    "### Overview of the scikit-learn Python library"
   ]
  },
  {
   "cell_type": "code",
   "execution_count": null,
   "id": "53abb8b6",
   "metadata": {},
   "outputs": [],
   "source": []
  },
  {
   "cell_type": "markdown",
   "id": "552ba9a2",
   "metadata": {},
   "source": [
    "### Demonstrations of three interesting scikit-learn algorithms\n"
   ]
  },
  {
   "cell_type": "code",
   "execution_count": null,
   "id": "3abdfa06",
   "metadata": {},
   "outputs": [],
   "source": []
  },
  {
   "cell_type": "markdown",
   "id": "de606d78",
   "metadata": {},
   "source": [
    "### Plots and other visualisations"
   ]
  },
  {
   "cell_type": "markdown",
   "id": "4b37d62e",
   "metadata": {},
   "source": [
    "***\n",
    "# End."
   ]
  },
  {
   "cell_type": "code",
   "execution_count": null,
   "id": "54cad0c5",
   "metadata": {},
   "outputs": [],
   "source": []
  }
 ],
 "metadata": {
  "kernelspec": {
   "display_name": "Python 3",
   "language": "python",
   "name": "python3"
  },
  "language_info": {
   "codemirror_mode": {
    "name": "ipython",
    "version": 3
   },
   "file_extension": ".py",
   "mimetype": "text/x-python",
   "name": "python",
   "nbconvert_exporter": "python",
   "pygments_lexer": "ipython3",
   "version": "3.8.8"
  }
 },
 "nbformat": 4,
 "nbformat_minor": 5
}
