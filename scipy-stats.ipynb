{
 "cells": [
  {
   "cell_type": "markdown",
   "id": "937a752c",
   "metadata": {},
   "source": [
    "# Scipy Stats Jupyter Notebook"
   ]
  },
  {
   "cell_type": "markdown",
   "id": "3f5ed437",
   "metadata": {},
   "source": [
    "# Introduction"
   ]
  },
  {
   "cell_type": "markdown",
   "id": "8e62d6e3",
   "metadata": {},
   "source": [
    "### Author's name: Jean Bonsenge"
   ]
  },
  {
   "cell_type": "markdown",
   "id": "88d9d427",
   "metadata": {},
   "source": [
    "## Instructions"
   ]
  },
  {
   "cell_type": "markdown",
   "id": "bd4163be",
   "metadata": {},
   "source": [
    "The purpose of this assessment is to ensure that you have achieved the learning outcomes of the module while also providing you with sample work to show prospective employers. The overall assessment is split into the three components as detailed below. The percentages beside each bullet point indicate the weighting of that item in your overall mark. Note, however, that the examiners’ overall impression of your submission may override the individual weightings where deemed appropriate."
   ]
  },
  {
   "cell_type": "markdown",
   "id": "03d996cc",
   "metadata": {},
   "source": [
    "Include a Jupyter notebook called scipy-stats.ipynb that contains the following.\n",
    "A clear and concise overview of the scipy.stats Python library [4].\n",
    "An example hypothesis test using ANOVA. You should find a data set on which\n",
    "it is appropriate to use ANOVA, ensure the assumptions underlying ANOVA are\n",
    "met, and then perform and display the results of your ANOVA using scipy.stats.\n",
    "Appropriate plots and other visualisations to enhance your notebook for viewers."
   ]
  },
  {
   "cell_type": "markdown",
   "id": "2dbc5683",
   "metadata": {},
   "source": [
    "### Overview of the scipy.stats Python library"
   ]
  },
  {
   "cell_type": "code",
   "execution_count": null,
   "id": "dbe2bb49",
   "metadata": {},
   "outputs": [],
   "source": []
  },
  {
   "cell_type": "markdown",
   "id": "5f60c0ff",
   "metadata": {},
   "source": [
    "### An Example Hypothesis Test Using ANOVA"
   ]
  },
  {
   "cell_type": "code",
   "execution_count": null,
   "id": "54cb1be3",
   "metadata": {},
   "outputs": [],
   "source": []
  },
  {
   "cell_type": "markdown",
   "id": "e76aed66",
   "metadata": {},
   "source": [
    " ### Plots and Other Visualisations"
   ]
  },
  {
   "cell_type": "code",
   "execution_count": null,
   "id": "8e242413",
   "metadata": {},
   "outputs": [],
   "source": []
  },
  {
   "cell_type": "markdown",
   "id": "288e176e",
   "metadata": {},
   "source": [
    "*** \n",
    "## End"
   ]
  }
 ],
 "metadata": {
  "kernelspec": {
   "display_name": "Python 3",
   "language": "python",
   "name": "python3"
  },
  "language_info": {
   "codemirror_mode": {
    "name": "ipython",
    "version": 3
   },
   "file_extension": ".py",
   "mimetype": "text/x-python",
   "name": "python",
   "nbconvert_exporter": "python",
   "pygments_lexer": "ipython3",
   "version": "3.8.8"
  }
 },
 "nbformat": 4,
 "nbformat_minor": 5
}
