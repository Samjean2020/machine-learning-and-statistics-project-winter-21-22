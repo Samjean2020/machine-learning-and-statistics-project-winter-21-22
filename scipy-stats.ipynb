{
 "cells": [
  {
   "cell_type": "markdown",
   "id": "937a752c",
   "metadata": {},
   "source": [
    "# Scipy Stats Jupyter Notebook"
   ]
  },
  {
   "cell_type": "markdown",
   "id": "3f5ed437",
   "metadata": {},
   "source": [
    "# Introduction"
   ]
  },
  {
   "cell_type": "markdown",
   "id": "8e62d6e3",
   "metadata": {},
   "source": [
    "### Author's name: Jean Bonsenge"
   ]
  },
  {
   "cell_type": "markdown",
   "id": "88d9d427",
   "metadata": {},
   "source": [
    "## Instructions"
   ]
  },
  {
   "cell_type": "markdown",
   "id": "bd4163be",
   "metadata": {},
   "source": [
    "The purpose of this assessment is to ensure that you have achieved the learning outcomes of the module while also providing you with sample work to show prospective employers. The overall assessment is split into the three components as detailed below. The percentages beside each bullet point indicate the weighting of that item in your overall mark. Note, however, that the examiners’ overall impression of your submission may override the individual weightings where deemed appropriate."
   ]
  },
  {
   "cell_type": "markdown",
   "id": "a368b6f0",
   "metadata": {},
   "source": [
    "### References\n",
    "\n",
    "[1] Statistical functions (scipy.stats)— SciPy v1.7.1 Manual.Available at: https://docs.scipy.org/doc/scipy/reference/stats.html (Accessed 19/10/2021)\n"
   ]
  },
  {
   "cell_type": "markdown",
   "id": "053337ab",
   "metadata": {},
   "source": [
    "### Development "
   ]
  },
  {
   "cell_type": "markdown",
   "id": "2dbc5683",
   "metadata": {},
   "source": [
    "### Overview of the scipy.stats Python library"
   ]
  },
  {
   "cell_type": "markdown",
   "id": "5721d14a",
   "metadata": {},
   "source": [
    "Scipy.stats Python library has a great number of probability distributions, summary and frequency statistics, correlation methods and statistical tests, masked statistics, kernel density estimation, quasi-Mote Carlo functionality and many more [1].\n",
    "\n",
    "#### Probability distributions\n",
    " \n",
    "#### Summary and frequency statistics \n",
    "\n",
    "#### Correlation methods and statistical tests \n",
    "\n",
    "#### Masked statistics\n",
    "\n",
    "#### Kernel density estimation \n",
    "\n",
    "#### Quasi-Mote Carlo functionality\n"
   ]
  },
  {
   "cell_type": "markdown",
   "id": "5f60c0ff",
   "metadata": {},
   "source": [
    "### An Example Hypothesis Test Using ANOVA"
   ]
  },
  {
   "cell_type": "code",
   "execution_count": null,
   "id": "54cb1be3",
   "metadata": {},
   "outputs": [],
   "source": []
  },
  {
   "cell_type": "markdown",
   "id": "e76aed66",
   "metadata": {},
   "source": [
    " ### Plots and Other Visualisations"
   ]
  },
  {
   "cell_type": "code",
   "execution_count": null,
   "id": "8e242413",
   "metadata": {},
   "outputs": [],
   "source": []
  },
  {
   "cell_type": "markdown",
   "id": "288e176e",
   "metadata": {},
   "source": [
    "*** \n",
    "## End"
   ]
  }
 ],
 "metadata": {
  "kernelspec": {
   "display_name": "Python 3",
   "language": "python",
   "name": "python3"
  },
  "language_info": {
   "codemirror_mode": {
    "name": "ipython",
    "version": 3
   },
   "file_extension": ".py",
   "mimetype": "text/x-python",
   "name": "python",
   "nbconvert_exporter": "python",
   "pygments_lexer": "ipython3",
   "version": "3.8.8"
  }
 },
 "nbformat": 4,
 "nbformat_minor": 5
}
