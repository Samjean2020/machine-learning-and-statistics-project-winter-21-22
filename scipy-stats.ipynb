{
 "cells": [
  {
   "cell_type": "markdown",
   "id": "937a752c",
   "metadata": {},
   "source": [
    "# Scipy Stats Jupyter Notebook"
   ]
  },
  {
   "cell_type": "markdown",
   "id": "3f5ed437",
   "metadata": {},
   "source": [
    "# Introduction"
   ]
  },
  {
   "cell_type": "markdown",
   "id": "8e62d6e3",
   "metadata": {},
   "source": [
    "### Author's name: Jean Bonsenge"
   ]
  },
  {
   "cell_type": "markdown",
   "id": "88d9d427",
   "metadata": {},
   "source": [
    "## Instructions"
   ]
  },
  {
   "cell_type": "markdown",
   "id": "bd4163be",
   "metadata": {},
   "source": [
    "The purpose of this assessment is to ensure that you have achieved the learning outcomes of the module while also providing you with sample work to show prospective employers.Overview of the scipy.stats Python Library, an example hypothesis test using ANOVA, and plots and other visualisations are the three compartiments to be covered."
   ]
  },
  {
   "cell_type": "markdown",
   "id": "a368b6f0",
   "metadata": {},
   "source": [
    "### References\n",
    "\n",
    "[1] Statistical functions (scipy.stats)— SciPy v1.7.1 Manual.Available at: https://docs.scipy.org/doc/scipy/reference/stats.html (Accessed 19/10/2021)\n",
    "\n",
    "[2] scipy.stats.rv_continuous-SciPy v1.71.Manual. Available at: \n",
    "https://docs.scipy.org/doc/scipy/reference/generated/scipy.stats.rv_continuous.html#scipy.stats.rv_continuous(Accessed 03/12/2021)\n",
    "\n",
    "[3] scipy.stats.random_correlation. Available at:\n",
    "https://docs.scipy.org/doc/scipy/reference/generated/scipy.stats.random_correlation.html#scipy.stats.random_correlation(Accessed 03/12/2021)\n",
    "\n",
    "[4]Wolfram Mathworld(2021). Eigenvalue. Available at: \n",
    "https://mathworld.wolfram.com/Eigenvalue.html (Accessed 03/12/2021)\n",
    "\n",
    "[5]docs.scipy.org (2021) SciPy v1.7.1 Manual. Statistical functions(Scipy.stats)-Discrete distributions. Available at: https://docs.scipy.org/doc/scipy/reference/stats.html#discrete-distributions(Accessed 06/12/2021)\n",
    "\n",
    "\n",
    "[6]docs.scipy.org(2021)scipy.linalg.eig-Scipy v1.7.1 Manual. Available at: https://docs.scipy.org/doc/scipy/reference/generated/scipy.linalg.eig.html (Accessed 06/12/2021)\n",
    "\n",
    "\n"
   ]
  },
  {
   "cell_type": "markdown",
   "id": "053337ab",
   "metadata": {},
   "source": [
    "### Development "
   ]
  },
  {
   "cell_type": "markdown",
   "id": "2dbc5683",
   "metadata": {},
   "source": [
    "### Overview of the scipy.stats Python library"
   ]
  },
  {
   "cell_type": "markdown",
   "id": "5721d14a",
   "metadata": {},
   "source": [
    "Scipy.stats Python library has a great number of probability distributions, summary and frequency statistics, correlation methods and statistical tests, masked statistics, kernel density estimation, quasi-Mote Carlo functionality and many more [1].\n",
    "\n",
    "#### Probability distributions\n",
    " \n",
    "#### Summary and frequency statistics \n",
    "\n",
    "#### Correlation methods and statistical tests \n",
    "\n",
    "#### Masked statistics\n",
    "\n",
    "#### Kernel density estimation \n",
    "\n",
    "#### Quasi-Mote Carlo functionality\n"
   ]
  },
  {
   "cell_type": "markdown",
   "id": "f8d22574",
   "metadata": {},
   "source": [
    "## Scipy.stats Operations "
   ]
  },
  {
   "cell_type": "code",
   "execution_count": 8,
   "id": "3a2c16ba",
   "metadata": {},
   "outputs": [],
   "source": [
    "# Efficient numerical arrays.\n",
    "import numpy as np\n",
    "\n",
    "# Data frames.\n",
    "import pandas as pd\n",
    "\n",
    "# Alternative statistics package.\n",
    "import statsmodels.stats.weightstats as stat\n",
    "\n",
    "# Mains statistics package.\n",
    "import scipy.stats as ss\n",
    "\n",
    "# Plotting.\n",
    "import matplotlib.pyplot as plt\n",
    "\n",
    "# Fancier plotting.\n",
    "import seaborn as sns\n",
    "\n",
    "# Better sized plots.\n",
    "plt.rcParams['figure.figsize'] = (12, 8)\n",
    "\n",
    "# Nicer colours and styles for plots.\n",
    "plt.style.use(\"ggplot\")"
   ]
  },
  {
   "cell_type": "markdown",
   "id": "30b81d19",
   "metadata": {},
   "source": [
    "# Probability distributions\n",
    "\n",
    "These include: \n",
    "\n",
    "- Continous distributions\n",
    "- Multivariate distributions, and\n",
    "- Discrete distributions [1]"
   ]
  },
  {
   "cell_type": "markdown",
   "id": "7f754e80",
   "metadata": {},
   "source": [
    "<br>\n",
    "\n",
    "## Continuous distributions\n",
    "https://docs.scipy.org/doc/scipy/reference/generated/scipy.stats.rv_continuous.html#scipy.stats.rv_continuous\n",
    "\n",
    "**scipy.stats.rv_continuous**\n",
    "\n",
    "scipy.stats.rv_continuous can be described as a standard continuous random variable class intended for subclassing. It is important to note that rv_continuous is a ground class to build specific distribution entities and instances for continuous random variables. It is recommended not to use it directly as a distribution[2].\n",
    "\n",
    "***\n"
   ]
  },
  {
   "cell_type": "markdown",
   "id": "4ef2cf2c",
   "metadata": {},
   "source": [
    "**Continuous distribution using scipy.stats.rv_continuous () method**"
   ]
  },
  {
   "cell_type": "code",
   "execution_count": 9,
   "id": "2fac2264",
   "metadata": {},
   "outputs": [
    {
     "data": {
      "text/plain": [
       "7.69459862670642e-23"
      ]
     },
     "execution_count": 9,
     "metadata": {},
     "output_type": "execute_result"
    }
   ],
   "source": [
    "from scipy.stats import rv_continuous\n",
    "class gaussian_gen(rv_continuous):\n",
    "    \"Gaussian distribution\"\n",
    "    def _pdf(self, x):\n",
    "        return np.exp(-x**2 / 2.) / np.sqrt(2.0 * np.pi)\n",
    "gaussian = gaussian_gen(name='gaussian')\n",
    "\n",
    "x = 10\n",
    "gaussian._pdf(x)\n"
   ]
  },
  {
   "cell_type": "markdown",
   "id": "254e4557",
   "metadata": {},
   "source": [
    "<br>\n",
    "\n",
    "### Multivariate distributions\n",
    "\n",
    "\n",
    "**scipy.stats.random_correlation**\n",
    "https://docs.scipy.org/doc/scipy/reference/generated/scipy.stats.random_correlation.html#scipy.stats.random_correlation\n",
    "\n",
    "scipy.stats.random_correlation pertains to a random correlation matrix and outputs a random correlation format provided a vector of eigenvalues.The eighs keyword determines the eigenvalues of the correlation matrix and entails the dimension[3]. Eigenvalues are defined as set of scalars associated with a linear system of equations that are sometimes also described as characteristic roots, characteristic values, proper values or latent roots[4]. \n",
    "\n",
    "***\n"
   ]
  },
  {
   "cell_type": "markdown",
   "id": "3cee80fd",
   "metadata": {},
   "source": [
    "**Examples of multivariate distributions using scipy.stats.random_correlation () function**"
   ]
  },
  {
   "cell_type": "code",
   "execution_count": 10,
   "id": "2a0e4f44",
   "metadata": {},
   "outputs": [
    {
     "data": {
      "text/plain": [
       "array([[ 1.        , -0.27636247, -0.08442249,  0.14478698],\n",
       "       [-0.27636247,  1.        ,  0.13979109,  0.08496053],\n",
       "       [-0.08442249,  0.13979109,  1.        , -0.39846395],\n",
       "       [ 0.14478698,  0.08496053, -0.39846395,  1.        ]])"
      ]
     },
     "execution_count": 10,
     "metadata": {},
     "output_type": "execute_result"
    }
   ],
   "source": [
    "# Example 1\n",
    "from scipy.stats import random_correlation\n",
    "rng = np.random.default_rng()\n",
    "x = random_correlation.rvs((.5, .8, 1.2, 1.5), random_state=rng)\n",
    "x"
   ]
  },
  {
   "cell_type": "markdown",
   "id": "f0c2dc4f",
   "metadata": {},
   "source": [
    "**scipy.linalg.eig**\n",
    "\n",
    "scipy.linalg.eig () solves an ordinary or generalized eigenvalue problem of a square matrix [6] \n"
   ]
  },
  {
   "cell_type": "code",
   "execution_count": 11,
   "id": "5878b441",
   "metadata": {},
   "outputs": [
    {
     "data": {
      "text/plain": [
       "array([0.5, 0.8, 1.2, 1.5])"
      ]
     },
     "execution_count": 11,
     "metadata": {},
     "output_type": "execute_result"
    }
   ],
   "source": [
    "# Example 2 using scipy linear algebra functionality\n",
    "\n",
    "import scipy.linalg\n",
    "e, v = scipy.linalg.eigh(x)\n",
    "e"
   ]
  },
  {
   "cell_type": "markdown",
   "id": "88730ec3",
   "metadata": {},
   "source": [
    "**Eigen Values using scipy linear algebra eigen values [scipy.linalg.eig ()] method**\n"
   ]
  },
  {
   "cell_type": "code",
   "execution_count": 12,
   "id": "1bf5cc0e",
   "metadata": {},
   "outputs": [
    {
     "data": {
      "text/plain": [
       "array([0.+1.j, 0.-1.j])"
      ]
     },
     "execution_count": 12,
     "metadata": {},
     "output_type": "execute_result"
    }
   ],
   "source": [
    "# https://docs.scipy.org/doc/scipy/reference/generated/scipy.linalg.eig.html\n",
    "# To output eigen values. \n",
    "\n",
    "from scipy import linalg\n",
    "a = np.array([[0., -1.], [1., 0.]])\n",
    "linalg.eigvals(a)\n"
   ]
  },
  {
   "cell_type": "code",
   "execution_count": 13,
   "id": "2a8a2188",
   "metadata": {},
   "outputs": [
    {
     "data": {
      "text/plain": [
       "array([[3.+0.j, 8.+0.j, 7.+0.j],\n",
       "       [1.+0.j, 1.+0.j, 1.+0.j]])"
      ]
     },
     "execution_count": 13,
     "metadata": {},
     "output_type": "execute_result"
    }
   ],
   "source": [
    "# Display eigen values.\n",
    "a = np.array([[3., 0., 0.], [0., 8., 0.], [0., 0., 7.]])\n",
    "linalg.eigvals(a, homogeneous_eigvals=True)"
   ]
  },
  {
   "cell_type": "code",
   "execution_count": 15,
   "id": "ccffef4c",
   "metadata": {},
   "outputs": [
    {
     "data": {
      "text/plain": [
       "array([ True,  True])"
      ]
     },
     "execution_count": 15,
     "metadata": {},
     "output_type": "execute_result"
    }
   ],
   "source": [
    "# Output eigen values.\n",
    "# double or complex ndarray. The eigenvalues, each repeated according to its multiplicity. \n",
    "# The shape is (M,) unless homogeneous_eigvals=True.\n",
    "# https://docs.scipy.org/doc/scipy/reference/generated/scipy.linalg.eig.html\n",
    "\n",
    "a = np.array([[0., -1.], [1., 0.]])\n",
    "linalg.eigvals(a) == linalg.eig(a)[0]"
   ]
  },
  {
   "cell_type": "code",
   "execution_count": 16,
   "id": "f9304680",
   "metadata": {},
   "outputs": [
    {
     "data": {
      "text/plain": [
       "array([[-0.70710678+0.j        , -0.70710678-0.j        ],\n",
       "       [ 0.        +0.70710678j,  0.        -0.70710678j]])"
      ]
     },
     "execution_count": 16,
     "metadata": {},
     "output_type": "execute_result"
    }
   ],
   "source": [
    "# Display eigenvector.\n",
    "# Normalized left eigenvector. double or complex ndarray. \n",
    "# The normalized left eigenvector corresponding to the eigenvalue w[i] is the column vl[:,i]. \n",
    "# Only returned if left=True.\n",
    "# https://docs.scipy.org/doc/scipy/reference/generated/scipy.linalg.eig.html\n",
    "linalg.eig(a, left=True, right=False)[1] "
   ]
  },
  {
   "cell_type": "code",
   "execution_count": 17,
   "id": "479b4290",
   "metadata": {},
   "outputs": [
    {
     "data": {
      "text/plain": [
       "array([[0.70710678+0.j        , 0.70710678-0.j        ],\n",
       "       [0.        -0.70710678j, 0.        +0.70710678j]])"
      ]
     },
     "execution_count": 17,
     "metadata": {},
     "output_type": "execute_result"
    }
   ],
   "source": [
    "# Normalized right eigenvector.double or complex ndarray. \n",
    "# The normalized right eigenvector corresponding to the eigenvalue w[i] is the column vr[:,i]. \n",
    "# Only returned if right=True.\n",
    "# https://docs.scipy.org/doc/scipy/reference/generated/scipy.linalg.eig.html\n",
    "linalg.eig(a, left=False, right=True)[1] "
   ]
  },
  {
   "cell_type": "markdown",
   "id": "12721227",
   "metadata": {},
   "source": [
    "<br>\n",
    "\n",
    "## Discrete distributions\n",
    "https://docs.scipy.org/doc/scipy/reference/stats.html#discrete-distributions [6]\n",
    "***"
   ]
  },
  {
   "cell_type": "markdown",
   "id": "e372dbb8",
   "metadata": {},
   "source": [
    "**scipy.stats.poisson**\n",
    "\n",
    "scipy.stats.poisson = <scipy.stats._discrete_distns.poisson_gen object> is a Poisson discrete random variable. It is an instance of the rv_discrete class. Therefore, poisson object gets from it a compilation of non-specific methods and completes them with elements specific for this unique distribution[6].\n",
    "\n",
    "It is important to note that the probability mass function for poisson is:\n",
    " \n",
    " $$f(k) = \\exp(-\\mu) \\frac{\\mu^k}{k!}$$\n",
    " \n",
    "for k $\\mu \\geq 0$.\n",
    " \n",
    "poisson takes $\\mu\\geq 0$ as shape parameter.\n",
    "\n",
    "When $\\mu = 0$, the pmf method return 1.0 at quantile k = 0.\n",
    "\n",
    "In addition, the probability mass function above is defined in the consistent shape. To shift distribution, it is recommended to use the loc parameter, as poisson.pmf(k, mu, loc) method is similar to poisson.pmf(k - loc, mu) [6]. \n",
    " "
   ]
  },
  {
   "cell_type": "markdown",
   "id": "f3721bf7",
   "metadata": {},
   "source": [
    " \n"
   ]
  },
  {
   "cell_type": "code",
   "execution_count": 18,
   "id": "de1eb1ce",
   "metadata": {},
   "outputs": [
    {
     "data": {
      "image/png": "[encoded data removed]",
      "text/plain": [
       "<Figure size 864x576 with 1 Axes>"
      ]
     },
     "metadata": {},
     "output_type": "display_data"
    }
   ],
   "source": [
    "# Import poisson from scipy.stats\n",
    "from scipy.stats import poisson\n",
    "import matplotlib.pyplot as plt\n",
    "fig, ax = plt.subplots(1, 1)\n",
    "\n",
    "\n",
    "# Calculate the first four moments:\n",
    "mu = 0.6\n",
    "mean, var, skew, kurt = poisson.stats(mu, moments='mvsk')\n",
    "\n",
    "# Display the probability mass function (pmf):\n",
    "x = np.arange(poisson.ppf(0.01, mu),\n",
    "              poisson.ppf(0.99, mu))\n",
    "ax.plot(x, poisson.pmf(x, mu), 'bo', ms=8, label='poisson pmf')\n",
    "ax.vlines(x, 0, poisson.pmf(x, mu), colors='b', lw=5, alpha=0.5)\n",
    "\n",
    "# Freeze the distribution and display the frozen pmf:\n",
    "rv = poisson(mu)\n",
    "ax.vlines(x, 0, rv.pmf(x), colors='k', linestyles='-', lw=1,\n",
    "        label='frozen pmf')\n",
    "ax.legend(loc='best', frameon=False)\n",
    "plt.show()"
   ]
  },
  {
   "cell_type": "code",
   "execution_count": 19,
   "id": "812a4e03",
   "metadata": {},
   "outputs": [
    {
     "data": {
      "text/plain": [
       "True"
      ]
     },
     "execution_count": 19,
     "metadata": {},
     "output_type": "execute_result"
    }
   ],
   "source": [
    "# Check accuracy of cdf and ppf:\n",
    "\n",
    "prob = poisson.cdf(x, mu)\n",
    "np.allclose(x, poisson.ppf(prob, mu))"
   ]
  },
  {
   "cell_type": "code",
   "execution_count": 20,
   "id": "cad9f31a",
   "metadata": {},
   "outputs": [],
   "source": [
    "# Generate random numbers:\n",
    "\n",
    "r = poisson.rvs(mu, size=1000)"
   ]
  },
  {
   "cell_type": "code",
   "execution_count": 21,
   "id": "36676a19",
   "metadata": {
    "scrolled": true
   },
   "outputs": [
    {
     "data": {
      "text/plain": [
       "array([1, 0, 1, 0, 0, 0, 0, 0, 0, 0, 0, 0, 0, 1, 0, 1, 1, 1, 0, 1, 0, 1,\n",
       "       0, 0, 1, 0, 0, 0, 0, 0, 1, 2, 1, 0, 1, 1, 1, 2, 1, 1, 1, 1, 0, 0,\n",
       "       2, 1, 0, 2, 0, 1, 0, 1, 0, 2, 0, 1, 1, 0, 1, 1, 2, 0, 2, 0, 0, 0,\n",
       "       1, 1, 1, 0, 0, 2, 2, 2, 4, 0, 1, 1, 1, 0, 1, 0, 0, 0, 0, 1, 0, 0,\n",
       "       0, 0, 0, 1, 1, 0, 1, 0, 0, 0, 0, 0, 1, 1, 0, 1, 0, 0, 0, 0, 0, 0,\n",
       "       0, 0, 0, 0, 0, 0, 2, 1, 2, 2, 0, 0, 0, 0, 0, 0, 0, 1, 1, 0, 0, 0,\n",
       "       0, 2, 0, 0, 1, 1, 0, 1, 0, 0, 1, 0, 0, 0, 1, 0, 0, 0, 1, 1, 0, 0,\n",
       "       1, 0, 1, 1, 1, 2, 0, 0, 0, 1, 0, 0, 1, 0, 1, 0, 1, 0, 0, 0, 0, 0,\n",
       "       0, 0, 1, 1, 1, 0, 0, 1, 0, 0, 1, 0, 0, 0, 0, 0, 0, 1, 2, 1, 0, 0,\n",
       "       0, 0, 0, 1, 0, 0, 0, 0, 1, 1, 0, 0, 1, 0, 0, 1, 0, 0, 1, 0, 0, 0,\n",
       "       0, 1, 0, 1, 1, 0, 0, 1, 0, 0, 0, 0, 0, 0, 1, 0, 1, 0, 1, 1, 1, 0,\n",
       "       1, 0, 0, 0, 3, 0, 0, 1, 0, 2, 0, 0, 0, 0, 1, 0, 3, 1, 1, 0, 0, 2,\n",
       "       0, 0, 0, 0, 2, 0, 0, 2, 1, 2, 0, 1, 0, 0, 1, 3, 2, 0, 0, 0, 0, 0,\n",
       "       2, 0, 0, 1, 2, 0, 2, 1, 0, 2, 1, 0, 0, 2, 1, 2, 0, 1, 0, 0, 2, 1,\n",
       "       0, 0, 0, 0, 0, 1, 0, 0, 0, 0, 0, 0, 0, 0, 0, 2, 0, 0, 2, 1, 1, 1,\n",
       "       3, 1, 2, 1, 1, 0, 1, 0, 0, 0, 0, 2, 0, 2, 2, 0, 0, 0, 0, 0, 1, 2,\n",
       "       1, 0, 0, 0, 1, 1, 3, 0, 0, 0, 0, 0, 1, 2, 2, 0, 1, 0, 1, 1, 1, 0,\n",
       "       0, 0, 2, 0, 2, 2, 0, 0, 2, 0, 2, 0, 1, 0, 0, 1, 0, 1, 0, 1, 1, 0,\n",
       "       2, 0, 0, 0, 2, 2, 0, 0, 1, 0, 1, 3, 0, 1, 0, 2, 0, 3, 0, 0, 0, 1,\n",
       "       1, 0, 2, 0, 1, 1, 1, 0, 0, 0, 0, 0, 0, 1, 1, 0, 1, 1, 0, 0, 2, 4,\n",
       "       0, 0, 0, 0, 0, 0, 0, 0, 0, 2, 0, 0, 0, 1, 0, 0, 1, 2, 0, 0, 2, 0,\n",
       "       0, 1, 2, 1, 0, 2, 0, 0, 1, 2, 0, 0, 0, 0, 0, 1, 0, 1, 1, 0, 2, 0,\n",
       "       1, 2, 0, 1, 1, 1, 0, 0, 1, 0, 0, 0, 0, 1, 1, 0, 0, 1, 0, 0, 0, 0,\n",
       "       0, 2, 0, 0, 0, 1, 0, 0, 0, 1, 3, 1, 0, 1, 0, 1, 0, 1, 0, 0, 0, 0,\n",
       "       0, 2, 0, 1, 0, 2, 0, 1, 0, 0, 0, 1, 0, 0, 0, 0, 0, 1, 3, 1, 0, 0,\n",
       "       3, 0, 1, 0, 0, 2, 0, 1, 3, 1, 0, 1, 0, 1, 0, 0, 0, 1, 0, 1, 0, 0,\n",
       "       0, 0, 0, 2, 0, 3, 0, 2, 0, 0, 0, 0, 0, 1, 1, 0, 0, 2, 1, 0, 1, 0,\n",
       "       0, 0, 0, 1, 0, 1, 1, 0, 1, 0, 0, 0, 0, 0, 1, 1, 0, 0, 0, 3, 2, 2,\n",
       "       2, 1, 1, 1, 2, 0, 0, 2, 0, 1, 1, 0, 0, 0, 1, 0, 0, 1, 0, 1, 0, 1,\n",
       "       0, 0, 0, 1, 0, 0, 0, 0, 0, 0, 0, 1, 2, 0, 1, 0, 1, 0, 1, 0, 1, 0,\n",
       "       1, 0, 0, 1, 0, 0, 2, 2, 1, 0, 2, 0, 1, 2, 2, 0, 0, 0, 0, 1, 1, 0,\n",
       "       1, 0, 2, 2, 2, 0, 1, 2, 0, 0, 1, 1, 1, 0, 2, 0, 1, 1, 0, 0, 1, 1,\n",
       "       2, 0, 0, 1, 1, 0, 1, 0, 0, 1, 0, 1, 0, 1, 1, 1, 1, 0, 1, 1, 1, 1,\n",
       "       0, 0, 0, 1, 0, 1, 0, 1, 0, 1, 1, 1, 0, 0, 0, 0, 2, 1, 1, 0, 1, 3,\n",
       "       3, 1, 1, 1, 0, 1, 1, 0, 1, 2, 0, 0, 1, 0, 0, 1, 2, 1, 0, 1, 0, 0,\n",
       "       1, 0, 0, 0, 0, 0, 1, 0, 0, 0, 0, 1, 0, 0, 1, 0, 0, 1, 1, 1, 2, 0,\n",
       "       0, 0, 2, 0, 0, 0, 0, 0, 1, 1, 1, 0, 0, 0, 0, 1, 0, 0, 1, 2, 0, 1,\n",
       "       1, 0, 2, 0, 1, 1, 0, 1, 1, 1, 0, 1, 1, 0, 0, 1, 1, 0, 1, 2, 1, 1,\n",
       "       1, 0, 1, 1, 1, 2, 0, 1, 0, 1, 0, 0, 2, 3, 1, 0, 0, 0, 0, 0, 1, 1,\n",
       "       0, 0, 0, 0, 0, 1, 0, 0, 1, 0, 0, 0, 1, 4, 1, 0, 0, 0, 0, 1, 0, 0,\n",
       "       1, 0, 1, 1, 0, 0, 1, 0, 0, 1, 3, 1, 1, 0, 2, 2, 0, 0, 0, 2, 0, 0,\n",
       "       0, 0, 1, 1, 0, 0, 3, 0, 1, 0, 1, 0, 1, 1, 0, 0, 1, 1, 0, 0, 1, 1,\n",
       "       2, 1, 0, 1, 1, 0, 0, 0, 0, 0, 1, 0, 1, 0, 0, 1, 0, 1, 0, 0, 0, 2,\n",
       "       0, 0, 1, 1, 0, 0, 0, 0, 0, 2, 2, 1, 0, 1, 0, 1, 1, 0, 2, 1, 2, 1,\n",
       "       1, 2, 1, 0, 2, 0, 0, 0, 1, 0, 0, 1, 0, 1, 0, 0, 0, 0, 0, 2, 1, 2,\n",
       "       0, 1, 1, 2, 0, 1, 0, 0, 1, 1])"
      ]
     },
     "execution_count": 21,
     "metadata": {},
     "output_type": "execute_result"
    }
   ],
   "source": [
    "# Call r.\n",
    "r"
   ]
  },
  {
   "cell_type": "code",
   "execution_count": null,
   "id": "405ba95e",
   "metadata": {},
   "outputs": [],
   "source": []
  },
  {
   "cell_type": "markdown",
   "id": "5f60c0ff",
   "metadata": {},
   "source": [
    "### An Example Hypothesis Test Using ANOVA"
   ]
  },
  {
   "cell_type": "code",
   "execution_count": null,
   "id": "54cb1be3",
   "metadata": {},
   "outputs": [],
   "source": []
  },
  {
   "cell_type": "markdown",
   "id": "e76aed66",
   "metadata": {},
   "source": [
    " ### Plots and Other Visualisations"
   ]
  },
  {
   "cell_type": "code",
   "execution_count": null,
   "id": "8e242413",
   "metadata": {},
   "outputs": [],
   "source": []
  },
  {
   "cell_type": "markdown",
   "id": "288e176e",
   "metadata": {},
   "source": [
    "*** \n",
    "## End"
   ]
  }
 ],
 "metadata": {
  "kernelspec": {
   "display_name": "Python 3",
   "language": "python",
   "name": "python3"
  },
  "language_info": {
   "codemirror_mode": {
    "name": "ipython",
    "version": 3
   },
   "file_extension": ".py",
   "mimetype": "text/x-python",
   "name": "python",
   "nbconvert_exporter": "python",
   "pygments_lexer": "ipython3",
   "version": "3.8.8"
  }
 },
 "nbformat": 4,
 "nbformat_minor": 5
}
