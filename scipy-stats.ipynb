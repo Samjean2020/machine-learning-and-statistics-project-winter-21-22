{
 "cells": [
  {
   "cell_type": "markdown",
   "id": "937a752c",
   "metadata": {},
   "source": [
    "# Scipy Stats Jupyter Notebook"
   ]
  },
  {
   "cell_type": "markdown",
   "id": "3f5ed437",
   "metadata": {},
   "source": [
    "# Introduction"
   ]
  },
  {
   "cell_type": "markdown",
   "id": "8e62d6e3",
   "metadata": {},
   "source": [
    "### Author's name: Jean Bonsenge"
   ]
  },
  {
   "cell_type": "markdown",
   "id": "88d9d427",
   "metadata": {},
   "source": [
    "## Instructions"
   ]
  },
  {
   "cell_type": "markdown",
   "id": "bd4163be",
   "metadata": {},
   "source": [
    "The purpose of this assessment is to ensure that you have achieved the learning outcomes of the module while also providing you with sample work to show prospective employers.Overview of the scipy.stats Python Library, an example hypothesis test using ANOVA, and plots and other visualisations are the three compartiments to be covered."
   ]
  },
  {
   "cell_type": "markdown",
   "id": "a368b6f0",
   "metadata": {},
   "source": [
    "### References\n",
    "\n",
    "[1] Statistical functions (scipy.stats)— SciPy v1.7.1 Manual.Available at: https://docs.scipy.org/doc/scipy/reference/stats.html (Accessed 19/10/2021)\n",
    "\n",
    "[2] scipy.stats.rv_continuous-SciPy v1.71.Manual. Available at: \n",
    "https://docs.scipy.org/doc/scipy/reference/generated/scipy.stats.rv_continuous.html#scipy.stats.rv_continuous(Accessed 03/12/2021)\n",
    "\n",
    "[3] scipy.stats.random_correlation. Available at:\n",
    "https://docs.scipy.org/doc/scipy/reference/generated/scipy.stats.random_correlation.html#scipy.stats.random_correlation(Accessed 03/12/2021)\n",
    "\n",
    "[4]Wolfram Mathworld(2021). Eigenvalue. Available at: \n",
    "https://mathworld.wolfram.com/Eigenvalue.html (Accessed 03/12/2021)\n",
    "\n",
    "[5]docs.scipy.org (2021) SciPy v1.7.1 Manual. Statistical functions(Scipy.stats)-Discrete distributions. Available at: https://docs.scipy.org/doc/scipy/reference/stats.html#discrete-distributions(Accessed 06/12/2021)\n",
    "\n",
    "\n",
    "[6]docs.scipy.org(2021)scipy.linalg.eig-Scipy v1.7.1 Manual. Available at: https://docs.scipy.org/doc/scipy/reference/generated/scipy.linalg.eig.html (Accessed 06/12/2021)\n",
    "\n",
    "\n"
   ]
  },
  {
   "cell_type": "markdown",
   "id": "053337ab",
   "metadata": {},
   "source": [
    "## Development "
   ]
  },
  {
   "cell_type": "markdown",
   "id": "2dbc5683",
   "metadata": {},
   "source": [
    "<br>\n",
    "\n",
    "## Part I\n",
    "\n",
    "### Overview of the scipy.stats Python library\n",
    "\n",
    "***"
   ]
  },
  {
   "cell_type": "markdown",
   "id": "5721d14a",
   "metadata": {},
   "source": [
    "Scipy.stats Python library has a great number of probability distributions, summary and frequency statistics, correlation methods and statistical tests, masked statistics, kernel density estimation, quasi-Mote Carlo functionality and many more [1].\n",
    "\n",
    "For the purpose of this assignment, I will focus on probability distributions on this part.\n"
   ]
  },
  {
   "cell_type": "markdown",
   "id": "f8d22574",
   "metadata": {},
   "source": [
    "### Scipy.stats Operations "
   ]
  },
  {
   "cell_type": "code",
   "execution_count": 6,
   "id": "3a2c16ba",
   "metadata": {},
   "outputs": [],
   "source": [
    "# Efficient numerical arrays.\n",
    "import numpy as np\n",
    "\n",
    "# Data frames.\n",
    "import pandas as pd\n",
    "\n",
    "# Alternative statistics package.\n",
    "import statsmodels.stats.weightstats as stat\n",
    "\n",
    "# Mains statistics package.\n",
    "import scipy.stats as ss\n",
    "\n",
    "# Plotting.\n",
    "import matplotlib.pyplot as plt\n",
    "\n",
    "# Fancier plotting.\n",
    "import seaborn as sns\n",
    "\n",
    "# Better sized plots.\n",
    "plt.rcParams['figure.figsize'] = (12, 8)\n",
    "\n",
    "# Nicer colours and styles for plots.\n",
    "plt.style.use(\"ggplot\")"
   ]
  },
  {
   "cell_type": "markdown",
   "id": "30b81d19",
   "metadata": {},
   "source": [
    "## Probability distributions\n",
    "\n",
    "These include: \n",
    "\n",
    "- Continous distributions\n",
    "- Multivariate distributions, and\n",
    "- Discrete distributions [1]"
   ]
  },
  {
   "cell_type": "markdown",
   "id": "7f754e80",
   "metadata": {},
   "source": [
    "<br>\n",
    "\n",
    "### Continuous distributions\n",
    "https://docs.scipy.org/doc/scipy/reference/generated/scipy.stats.rv_continuous.html#scipy.stats.rv_continuous\n",
    "\n",
    "**scipy.stats.rv_continuous**\n",
    "\n",
    "scipy.stats.rv_continuous can be described as a standard continuous random variable class intended for subclassing. It is important to note that rv_continuous is a ground class to build specific distribution entities and instances for continuous random variables. It is recommended not to use it directly as a distribution[2].\n",
    "\n",
    "***\n"
   ]
  },
  {
   "cell_type": "markdown",
   "id": "4ef2cf2c",
   "metadata": {},
   "source": [
    "**Continuous distribution using scipy.stats.rv_continuous () method**"
   ]
  },
  {
   "cell_type": "code",
   "execution_count": 9,
   "id": "2fac2264",
   "metadata": {},
   "outputs": [
    {
     "data": {
      "text/plain": [
       "7.69459862670642e-23"
      ]
     },
     "execution_count": 9,
     "metadata": {},
     "output_type": "execute_result"
    }
   ],
   "source": [
    "from scipy.stats import rv_continuous\n",
    "class gaussian_gen(rv_continuous):\n",
    "    \"Gaussian distribution\"\n",
    "    def _pdf(self, x):\n",
    "        return np.exp(-x**2 / 2.) / np.sqrt(2.0 * np.pi)\n",
    "gaussian = gaussian_gen(name='gaussian')\n",
    "\n",
    "x = 10\n",
    "gaussian._pdf(x)\n"
   ]
  },
  {
   "cell_type": "markdown",
   "id": "254e4557",
   "metadata": {},
   "source": [
    "<br>\n",
    "\n",
    "### Multivariate distributions\n",
    "\n",
    "\n",
    "**scipy.stats.random_correlation**\n",
    "https://docs.scipy.org/doc/scipy/reference/generated/scipy.stats.random_correlation.html#scipy.stats.random_correlation\n",
    "\n",
    "scipy.stats.random_correlation pertains to a random correlation matrix and outputs a random correlation format provided a vector of eigenvalues.The eighs keyword determines the eigenvalues of the correlation matrix and entails the dimension[3]. Eigenvalues are defined as set of scalars associated with a linear system of equations that are sometimes also described as characteristic roots, characteristic values, proper values or latent roots[4]. \n",
    "\n",
    "***\n"
   ]
  },
  {
   "cell_type": "markdown",
   "id": "3cee80fd",
   "metadata": {},
   "source": [
    "**Examples of multivariate distributions using scipy.stats.random_correlation () function**"
   ]
  },
  {
   "cell_type": "code",
   "execution_count": 10,
   "id": "2a0e4f44",
   "metadata": {},
   "outputs": [
    {
     "data": {
      "text/plain": [
       "array([[ 1.        , -0.27636247, -0.08442249,  0.14478698],\n",
       "       [-0.27636247,  1.        ,  0.13979109,  0.08496053],\n",
       "       [-0.08442249,  0.13979109,  1.        , -0.39846395],\n",
       "       [ 0.14478698,  0.08496053, -0.39846395,  1.        ]])"
      ]
     },
     "execution_count": 10,
     "metadata": {},
     "output_type": "execute_result"
    }
   ],
   "source": [
    "# Example 1\n",
    "from scipy.stats import random_correlation\n",
    "rng = np.random.default_rng()\n",
    "x = random_correlation.rvs((.5, .8, 1.2, 1.5), random_state=rng)\n",
    "x"
   ]
  },
  {
   "cell_type": "markdown",
   "id": "f0c2dc4f",
   "metadata": {},
   "source": [
    "**scipy.linalg.eig**\n",
    "\n",
    "scipy.linalg.eig () solves an ordinary or generalized eigenvalue problem of a square matrix [6] \n"
   ]
  },
  {
   "cell_type": "code",
   "execution_count": 11,
   "id": "5878b441",
   "metadata": {},
   "outputs": [
    {
     "data": {
      "text/plain": [
       "array([0.5, 0.8, 1.2, 1.5])"
      ]
     },
     "execution_count": 11,
     "metadata": {},
     "output_type": "execute_result"
    }
   ],
   "source": [
    "# Example 2 using scipy linear algebra functionality\n",
    "\n",
    "import scipy.linalg\n",
    "e, v = scipy.linalg.eigh(x)\n",
    "e"
   ]
  },
  {
   "cell_type": "markdown",
   "id": "88730ec3",
   "metadata": {},
   "source": [
    "**Eigen Values using scipy linear algebra eigen values [scipy.linalg.eig ()] method**\n"
   ]
  },
  {
   "cell_type": "code",
   "execution_count": 12,
   "id": "1bf5cc0e",
   "metadata": {},
   "outputs": [
    {
     "data": {
      "text/plain": [
       "array([0.+1.j, 0.-1.j])"
      ]
     },
     "execution_count": 12,
     "metadata": {},
     "output_type": "execute_result"
    }
   ],
   "source": [
    "# https://docs.scipy.org/doc/scipy/reference/generated/scipy.linalg.eig.html\n",
    "# To output eigen values. \n",
    "\n",
    "from scipy import linalg\n",
    "a = np.array([[0., -1.], [1., 0.]])\n",
    "linalg.eigvals(a)\n"
   ]
  },
  {
   "cell_type": "code",
   "execution_count": 13,
   "id": "2a8a2188",
   "metadata": {},
   "outputs": [
    {
     "data": {
      "text/plain": [
       "array([[3.+0.j, 8.+0.j, 7.+0.j],\n",
       "       [1.+0.j, 1.+0.j, 1.+0.j]])"
      ]
     },
     "execution_count": 13,
     "metadata": {},
     "output_type": "execute_result"
    }
   ],
   "source": [
    "# Display eigen values.\n",
    "a = np.array([[3., 0., 0.], [0., 8., 0.], [0., 0., 7.]])\n",
    "linalg.eigvals(a, homogeneous_eigvals=True)"
   ]
  },
  {
   "cell_type": "code",
   "execution_count": 15,
   "id": "ccffef4c",
   "metadata": {},
   "outputs": [
    {
     "data": {
      "text/plain": [
       "array([ True,  True])"
      ]
     },
     "execution_count": 15,
     "metadata": {},
     "output_type": "execute_result"
    }
   ],
   "source": [
    "# Output eigen values.\n",
    "# double or complex ndarray. The eigenvalues, each repeated according to its multiplicity. \n",
    "# The shape is (M,) unless homogeneous_eigvals=True.\n",
    "# https://docs.scipy.org/doc/scipy/reference/generated/scipy.linalg.eig.html\n",
    "\n",
    "a = np.array([[0., -1.], [1., 0.]])\n",
    "linalg.eigvals(a) == linalg.eig(a)[0]"
   ]
  },
  {
   "cell_type": "code",
   "execution_count": 16,
   "id": "f9304680",
   "metadata": {},
   "outputs": [
    {
     "data": {
      "text/plain": [
       "array([[-0.70710678+0.j        , -0.70710678-0.j        ],\n",
       "       [ 0.        +0.70710678j,  0.        -0.70710678j]])"
      ]
     },
     "execution_count": 16,
     "metadata": {},
     "output_type": "execute_result"
    }
   ],
   "source": [
    "# Display eigenvector.\n",
    "# Normalized left eigenvector. double or complex ndarray. \n",
    "# The normalized left eigenvector corresponding to the eigenvalue w[i] is the column vl[:,i]. \n",
    "# Only returned if left=True.\n",
    "# https://docs.scipy.org/doc/scipy/reference/generated/scipy.linalg.eig.html\n",
    "linalg.eig(a, left=True, right=False)[1] "
   ]
  },
  {
   "cell_type": "code",
   "execution_count": 17,
   "id": "479b4290",
   "metadata": {},
   "outputs": [
    {
     "data": {
      "text/plain": [
       "array([[0.70710678+0.j        , 0.70710678-0.j        ],\n",
       "       [0.        -0.70710678j, 0.        +0.70710678j]])"
      ]
     },
     "execution_count": 17,
     "metadata": {},
     "output_type": "execute_result"
    }
   ],
   "source": [
    "# Normalized right eigenvector.double or complex ndarray. \n",
    "# The normalized right eigenvector corresponding to the eigenvalue w[i] is the column vr[:,i]. \n",
    "# Only returned if right=True.\n",
    "# https://docs.scipy.org/doc/scipy/reference/generated/scipy.linalg.eig.html\n",
    "linalg.eig(a, left=False, right=True)[1] "
   ]
  },
  {
   "cell_type": "markdown",
   "id": "12721227",
   "metadata": {},
   "source": [
    "<br>\n",
    "\n",
    "## Discrete distributions\n",
    "https://docs.scipy.org/doc/scipy/reference/stats.html#discrete-distributions [6]\n",
    "***"
   ]
  },
  {
   "cell_type": "markdown",
   "id": "e372dbb8",
   "metadata": {},
   "source": [
    "**scipy.stats.poisson**\n",
    "\n",
    "scipy.stats.poisson = <scipy.stats._discrete_distns.poisson_gen object> is a Poisson discrete random variable. It is an instance of the rv_discrete class. Therefore, poisson object gets from it a compilation of non-specific methods and completes them with elements specific for this unique distribution[6].\n",
    "\n",
    "It is important to note that the probability mass function for poisson is:\n",
    " \n",
    " $$f(k) = \\exp(-\\mu) \\frac{\\mu^k}{k!}$$\n",
    " \n",
    "for k $\\mu \\geq 0$.\n",
    " \n",
    "poisson takes $\\mu\\geq 0$ as shape parameter.\n",
    "\n",
    "When $\\mu = 0$, the pmf method return 1.0 at quantile k = 0.\n",
    "\n",
    "In addition, the probability mass function above is defined in the consistent shape. To shift distribution, it is recommended to use the loc parameter, as poisson.pmf(k, mu, loc) method is similar to poisson.pmf(k - loc, mu) [6]. \n",
    " "
   ]
  },
  {
   "cell_type": "markdown",
   "id": "f3721bf7",
   "metadata": {},
   "source": [
    " \n"
   ]
  },
  {
   "cell_type": "code",
   "execution_count": 18,
   "id": "de1eb1ce",
   "metadata": {},
   "outputs": [
    {
     "data": {
      "image/png": "[encoded data removed]",
      "text/plain": [
       "<Figure size 864x576 with 1 Axes>"
      ]
     },
     "metadata": {},
     "output_type": "display_data"
    }
   ],
   "source": [
    "# Import poisson from scipy.stats\n",
    "from scipy.stats import poisson\n",
    "import matplotlib.pyplot as plt\n",
    "fig, ax = plt.subplots(1, 1)\n",
    "\n",
    "\n",
    "# Calculate the first four moments:\n",
    "mu = 0.6\n",
    "mean, var, skew, kurt = poisson.stats(mu, moments='mvsk')\n",
    "\n",
    "# Display the probability mass function (pmf):\n",
    "x = np.arange(poisson.ppf(0.01, mu),\n",
    "              poisson.ppf(0.99, mu))\n",
    "ax.plot(x, poisson.pmf(x, mu), 'bo', ms=8, label='poisson pmf')\n",
    "ax.vlines(x, 0, poisson.pmf(x, mu), colors='b', lw=5, alpha=0.5)\n",
    "\n",
    "# Freeze the distribution and display the frozen pmf:\n",
    "rv = poisson(mu)\n",
    "ax.vlines(x, 0, rv.pmf(x), colors='k', linestyles='-', lw=1,\n",
    "        label='frozen pmf')\n",
    "ax.legend(loc='best', frameon=False)\n",
    "plt.show()"
   ]
  },
  {
   "cell_type": "code",
   "execution_count": 19,
   "id": "812a4e03",
   "metadata": {},
   "outputs": [
    {
     "data": {
      "text/plain": [
       "True"
      ]
     },
     "execution_count": 19,
     "metadata": {},
     "output_type": "execute_result"
    }
   ],
   "source": [
    "# Check accuracy of cdf and ppf:\n",
    "\n",
    "prob = poisson.cdf(x, mu)\n",
    "np.allclose(x, poisson.ppf(prob, mu))"
   ]
  },
  {
   "cell_type": "code",
   "execution_count": 20,
   "id": "cad9f31a",
   "metadata": {},
   "outputs": [],
   "source": [
    "# Generate random numbers:\n",
    "\n",
    "r = poisson.rvs(mu, size=1000)"
   ]
  },
  {
   "cell_type": "code",
   "execution_count": 21,
   "id": "36676a19",
   "metadata": {
    "scrolled": true
   },
   "outputs": [
    {
     "data": {
      "text/plain": [
       "array([1, 0, 1, 0, 0, 0, 0, 0, 0, 0, 0, 0, 0, 1, 0, 1, 1, 1, 0, 1, 0, 1,\n",
       "       0, 0, 1, 0, 0, 0, 0, 0, 1, 2, 1, 0, 1, 1, 1, 2, 1, 1, 1, 1, 0, 0,\n",
       "       2, 1, 0, 2, 0, 1, 0, 1, 0, 2, 0, 1, 1, 0, 1, 1, 2, 0, 2, 0, 0, 0,\n",
       "       1, 1, 1, 0, 0, 2, 2, 2, 4, 0, 1, 1, 1, 0, 1, 0, 0, 0, 0, 1, 0, 0,\n",
       "       0, 0, 0, 1, 1, 0, 1, 0, 0, 0, 0, 0, 1, 1, 0, 1, 0, 0, 0, 0, 0, 0,\n",
       "       0, 0, 0, 0, 0, 0, 2, 1, 2, 2, 0, 0, 0, 0, 0, 0, 0, 1, 1, 0, 0, 0,\n",
       "       0, 2, 0, 0, 1, 1, 0, 1, 0, 0, 1, 0, 0, 0, 1, 0, 0, 0, 1, 1, 0, 0,\n",
       "       1, 0, 1, 1, 1, 2, 0, 0, 0, 1, 0, 0, 1, 0, 1, 0, 1, 0, 0, 0, 0, 0,\n",
       "       0, 0, 1, 1, 1, 0, 0, 1, 0, 0, 1, 0, 0, 0, 0, 0, 0, 1, 2, 1, 0, 0,\n",
       "       0, 0, 0, 1, 0, 0, 0, 0, 1, 1, 0, 0, 1, 0, 0, 1, 0, 0, 1, 0, 0, 0,\n",
       "       0, 1, 0, 1, 1, 0, 0, 1, 0, 0, 0, 0, 0, 0, 1, 0, 1, 0, 1, 1, 1, 0,\n",
       "       1, 0, 0, 0, 3, 0, 0, 1, 0, 2, 0, 0, 0, 0, 1, 0, 3, 1, 1, 0, 0, 2,\n",
       "       0, 0, 0, 0, 2, 0, 0, 2, 1, 2, 0, 1, 0, 0, 1, 3, 2, 0, 0, 0, 0, 0,\n",
       "       2, 0, 0, 1, 2, 0, 2, 1, 0, 2, 1, 0, 0, 2, 1, 2, 0, 1, 0, 0, 2, 1,\n",
       "       0, 0, 0, 0, 0, 1, 0, 0, 0, 0, 0, 0, 0, 0, 0, 2, 0, 0, 2, 1, 1, 1,\n",
       "       3, 1, 2, 1, 1, 0, 1, 0, 0, 0, 0, 2, 0, 2, 2, 0, 0, 0, 0, 0, 1, 2,\n",
       "       1, 0, 0, 0, 1, 1, 3, 0, 0, 0, 0, 0, 1, 2, 2, 0, 1, 0, 1, 1, 1, 0,\n",
       "       0, 0, 2, 0, 2, 2, 0, 0, 2, 0, 2, 0, 1, 0, 0, 1, 0, 1, 0, 1, 1, 0,\n",
       "       2, 0, 0, 0, 2, 2, 0, 0, 1, 0, 1, 3, 0, 1, 0, 2, 0, 3, 0, 0, 0, 1,\n",
       "       1, 0, 2, 0, 1, 1, 1, 0, 0, 0, 0, 0, 0, 1, 1, 0, 1, 1, 0, 0, 2, 4,\n",
       "       0, 0, 0, 0, 0, 0, 0, 0, 0, 2, 0, 0, 0, 1, 0, 0, 1, 2, 0, 0, 2, 0,\n",
       "       0, 1, 2, 1, 0, 2, 0, 0, 1, 2, 0, 0, 0, 0, 0, 1, 0, 1, 1, 0, 2, 0,\n",
       "       1, 2, 0, 1, 1, 1, 0, 0, 1, 0, 0, 0, 0, 1, 1, 0, 0, 1, 0, 0, 0, 0,\n",
       "       0, 2, 0, 0, 0, 1, 0, 0, 0, 1, 3, 1, 0, 1, 0, 1, 0, 1, 0, 0, 0, 0,\n",
       "       0, 2, 0, 1, 0, 2, 0, 1, 0, 0, 0, 1, 0, 0, 0, 0, 0, 1, 3, 1, 0, 0,\n",
       "       3, 0, 1, 0, 0, 2, 0, 1, 3, 1, 0, 1, 0, 1, 0, 0, 0, 1, 0, 1, 0, 0,\n",
       "       0, 0, 0, 2, 0, 3, 0, 2, 0, 0, 0, 0, 0, 1, 1, 0, 0, 2, 1, 0, 1, 0,\n",
       "       0, 0, 0, 1, 0, 1, 1, 0, 1, 0, 0, 0, 0, 0, 1, 1, 0, 0, 0, 3, 2, 2,\n",
       "       2, 1, 1, 1, 2, 0, 0, 2, 0, 1, 1, 0, 0, 0, 1, 0, 0, 1, 0, 1, 0, 1,\n",
       "       0, 0, 0, 1, 0, 0, 0, 0, 0, 0, 0, 1, 2, 0, 1, 0, 1, 0, 1, 0, 1, 0,\n",
       "       1, 0, 0, 1, 0, 0, 2, 2, 1, 0, 2, 0, 1, 2, 2, 0, 0, 0, 0, 1, 1, 0,\n",
       "       1, 0, 2, 2, 2, 0, 1, 2, 0, 0, 1, 1, 1, 0, 2, 0, 1, 1, 0, 0, 1, 1,\n",
       "       2, 0, 0, 1, 1, 0, 1, 0, 0, 1, 0, 1, 0, 1, 1, 1, 1, 0, 1, 1, 1, 1,\n",
       "       0, 0, 0, 1, 0, 1, 0, 1, 0, 1, 1, 1, 0, 0, 0, 0, 2, 1, 1, 0, 1, 3,\n",
       "       3, 1, 1, 1, 0, 1, 1, 0, 1, 2, 0, 0, 1, 0, 0, 1, 2, 1, 0, 1, 0, 0,\n",
       "       1, 0, 0, 0, 0, 0, 1, 0, 0, 0, 0, 1, 0, 0, 1, 0, 0, 1, 1, 1, 2, 0,\n",
       "       0, 0, 2, 0, 0, 0, 0, 0, 1, 1, 1, 0, 0, 0, 0, 1, 0, 0, 1, 2, 0, 1,\n",
       "       1, 0, 2, 0, 1, 1, 0, 1, 1, 1, 0, 1, 1, 0, 0, 1, 1, 0, 1, 2, 1, 1,\n",
       "       1, 0, 1, 1, 1, 2, 0, 1, 0, 1, 0, 0, 2, 3, 1, 0, 0, 0, 0, 0, 1, 1,\n",
       "       0, 0, 0, 0, 0, 1, 0, 0, 1, 0, 0, 0, 1, 4, 1, 0, 0, 0, 0, 1, 0, 0,\n",
       "       1, 0, 1, 1, 0, 0, 1, 0, 0, 1, 3, 1, 1, 0, 2, 2, 0, 0, 0, 2, 0, 0,\n",
       "       0, 0, 1, 1, 0, 0, 3, 0, 1, 0, 1, 0, 1, 1, 0, 0, 1, 1, 0, 0, 1, 1,\n",
       "       2, 1, 0, 1, 1, 0, 0, 0, 0, 0, 1, 0, 1, 0, 0, 1, 0, 1, 0, 0, 0, 2,\n",
       "       0, 0, 1, 1, 0, 0, 0, 0, 0, 2, 2, 1, 0, 1, 0, 1, 1, 0, 2, 1, 2, 1,\n",
       "       1, 2, 1, 0, 2, 0, 0, 0, 1, 0, 0, 1, 0, 1, 0, 0, 0, 0, 0, 2, 1, 2,\n",
       "       0, 1, 1, 2, 0, 1, 0, 0, 1, 1])"
      ]
     },
     "execution_count": 21,
     "metadata": {},
     "output_type": "execute_result"
    }
   ],
   "source": [
    "# Call r.\n",
    "r"
   ]
  },
  {
   "cell_type": "markdown",
   "id": "5f60c0ff",
   "metadata": {},
   "source": [
    "<br>\n",
    "\n",
    "## Part II\n",
    "\n",
    "### An Example Hypothesis Test Using ANOVA\n",
    "\n",
    "***"
   ]
  },
  {
   "cell_type": "markdown",
   "id": "40ad891b",
   "metadata": {},
   "source": [
    "### One-way ANOVA\n",
    "https://statistics.laerd.com/spss-tutorials/one-way-anova-using-spss-statistics.php\n"
   ]
  },
  {
   "cell_type": "code",
   "execution_count": 3,
   "id": "44a32378",
   "metadata": {},
   "outputs": [],
   "source": [
    "# Data frames.\n",
    "import pandas as pd\n",
    "\n",
    "# Plotting.\n",
    "import matplotlib.pyplot as plt\n",
    "# Nicer plotting\n",
    "import seaborn as sns\n",
    "\n",
    "# Stats.\n",
    "import scipy.stats as ss\n",
    "\n",
    "# Numerical arrays.\n",
    "import numpy as np\n",
    "\n",
    "# Collections.\n",
    "import collections as co\n",
    "\n",
    "# Specials.\n",
    "import scipy.special as spec"
   ]
  },
  {
   "attachments": {
    "Large14.jpg": {
     "image/jpeg": "[encoded data removed]"
    }
   },
   "cell_type": "markdown",
   "id": "715ae912",
   "metadata": {},
   "source": [
    "## Breast Cancer Wisconsin (Diagnostic) Data Set\n",
    "https://archive.ics.uci.edu/ml/datasets/Breast+Cancer+Wisconsin+%28Diagnostic%29\n",
    "\n",
    "![Large14.jpg](attachment:Large14.jpg)"
   ]
  },
  {
   "cell_type": "markdown",
   "id": "9a115c0c",
   "metadata": {},
   "source": [
    "**Abstract: Diagnostic Wisconsin Breast Cancer Database**\n",
    "\n",
    "- Data Set Characteristics: Multivariate\n",
    "- Number of Instances: 569\n",
    "- Area: Life\n",
    "- Attribute Characteristics: Real\n",
    "- Number of Attributes: 32\n",
    "- Date Donated: 1995-11-01\n",
    "- Associated Tasks: Classification\n",
    "- Missing Values? No"
   ]
  },
  {
   "cell_type": "markdown",
   "id": "72685025",
   "metadata": {},
   "source": [
    "**Data Set Information**\n",
    "\n",
    "An electronic image of a fine needle aspirate (FNA) is used to compute features. They explain attributes of the cell nuclei found in the scan [archive.ics.edu]\n"
   ]
  },
  {
   "cell_type": "markdown",
   "id": "06bc1948",
   "metadata": {},
   "source": [
    "**Attribute Information**\n",
    "\n",
    "1) ID number\n",
    "2) Diagnosis (M = malignant, B = benign) 3-32)\n",
    "\n",
    "Ten real-valued features are computed for each cell nucleus:\n",
    "\n",
    "- a) radius (mean of distances from center to points on the perimeter)\n",
    "- b) texture (standard deviation of gray-scale values)\n",
    "- c) perimeter\n",
    "- d) area\n",
    "- e) smoothness (local variation in radius lengths)\n",
    "- f) compactness (perimeter^2 / area - 1.0)\n",
    "- g) concavity (severity of concave portions of the contour)\n",
    "- h) concave points (number of concave portions of the contour)\n",
    "- i) symmetry\n",
    "- j) fractal dimension (\"coastline approximation\" - 1)\n",
    "  \n",
    " **[archive.ics.edu]**"
   ]
  },
  {
   "cell_type": "markdown",
   "id": "33d21d44",
   "metadata": {},
   "source": [
    "### Access the Breast Cancer Wisconsin (Diagnostic) Data Set"
   ]
  },
  {
   "cell_type": "code",
   "execution_count": 4,
   "id": "1c1d09da",
   "metadata": {},
   "outputs": [],
   "source": [
    "# Use Pandas DataFrame() function.\n",
    "df = pd.read_csv('https://archive.ics.uci.edu/ml/machine-learning-databases/breast-cancer-wisconsin/breast-cancer-wisconsin.data')"
   ]
  },
  {
   "cell_type": "code",
   "execution_count": 5,
   "id": "20784d10",
   "metadata": {},
   "outputs": [
    {
     "data": {
      "text/html": [
       "<div>\n",
       "<style scoped>\n",
       "    .dataframe tbody tr th:only-of-type {\n",
       "        vertical-align: middle;\n",
       "    }\n",
       "\n",
       "    .dataframe tbody tr th {\n",
       "        vertical-align: top;\n",
       "    }\n",
       "\n",
       "    .dataframe thead th {\n",
       "        text-align: right;\n",
       "    }\n",
       "</style>\n",
       "<table border=\"1\" class=\"dataframe\">\n",
       "  <thead>\n",
       "    <tr style=\"text-align: right;\">\n",
       "      <th></th>\n",
       "      <th>1000025</th>\n",
       "      <th>5</th>\n",
       "      <th>1</th>\n",
       "      <th>1.1</th>\n",
       "      <th>1.2</th>\n",
       "      <th>2</th>\n",
       "      <th>1.3</th>\n",
       "      <th>3</th>\n",
       "      <th>1.4</th>\n",
       "      <th>1.5</th>\n",
       "      <th>2.1</th>\n",
       "    </tr>\n",
       "  </thead>\n",
       "  <tbody>\n",
       "    <tr>\n",
       "      <th>0</th>\n",
       "      <td>1002945</td>\n",
       "      <td>5</td>\n",
       "      <td>4</td>\n",
       "      <td>4</td>\n",
       "      <td>5</td>\n",
       "      <td>7</td>\n",
       "      <td>10</td>\n",
       "      <td>3</td>\n",
       "      <td>2</td>\n",
       "      <td>1</td>\n",
       "      <td>2</td>\n",
       "    </tr>\n",
       "    <tr>\n",
       "      <th>1</th>\n",
       "      <td>1015425</td>\n",
       "      <td>3</td>\n",
       "      <td>1</td>\n",
       "      <td>1</td>\n",
       "      <td>1</td>\n",
       "      <td>2</td>\n",
       "      <td>2</td>\n",
       "      <td>3</td>\n",
       "      <td>1</td>\n",
       "      <td>1</td>\n",
       "      <td>2</td>\n",
       "    </tr>\n",
       "    <tr>\n",
       "      <th>2</th>\n",
       "      <td>1016277</td>\n",
       "      <td>6</td>\n",
       "      <td>8</td>\n",
       "      <td>8</td>\n",
       "      <td>1</td>\n",
       "      <td>3</td>\n",
       "      <td>4</td>\n",
       "      <td>3</td>\n",
       "      <td>7</td>\n",
       "      <td>1</td>\n",
       "      <td>2</td>\n",
       "    </tr>\n",
       "    <tr>\n",
       "      <th>3</th>\n",
       "      <td>1017023</td>\n",
       "      <td>4</td>\n",
       "      <td>1</td>\n",
       "      <td>1</td>\n",
       "      <td>3</td>\n",
       "      <td>2</td>\n",
       "      <td>1</td>\n",
       "      <td>3</td>\n",
       "      <td>1</td>\n",
       "      <td>1</td>\n",
       "      <td>2</td>\n",
       "    </tr>\n",
       "    <tr>\n",
       "      <th>4</th>\n",
       "      <td>1017122</td>\n",
       "      <td>8</td>\n",
       "      <td>10</td>\n",
       "      <td>10</td>\n",
       "      <td>8</td>\n",
       "      <td>7</td>\n",
       "      <td>10</td>\n",
       "      <td>9</td>\n",
       "      <td>7</td>\n",
       "      <td>1</td>\n",
       "      <td>4</td>\n",
       "    </tr>\n",
       "    <tr>\n",
       "      <th>...</th>\n",
       "      <td>...</td>\n",
       "      <td>...</td>\n",
       "      <td>...</td>\n",
       "      <td>...</td>\n",
       "      <td>...</td>\n",
       "      <td>...</td>\n",
       "      <td>...</td>\n",
       "      <td>...</td>\n",
       "      <td>...</td>\n",
       "      <td>...</td>\n",
       "      <td>...</td>\n",
       "    </tr>\n",
       "    <tr>\n",
       "      <th>693</th>\n",
       "      <td>776715</td>\n",
       "      <td>3</td>\n",
       "      <td>1</td>\n",
       "      <td>1</td>\n",
       "      <td>1</td>\n",
       "      <td>3</td>\n",
       "      <td>2</td>\n",
       "      <td>1</td>\n",
       "      <td>1</td>\n",
       "      <td>1</td>\n",
       "      <td>2</td>\n",
       "    </tr>\n",
       "    <tr>\n",
       "      <th>694</th>\n",
       "      <td>841769</td>\n",
       "      <td>2</td>\n",
       "      <td>1</td>\n",
       "      <td>1</td>\n",
       "      <td>1</td>\n",
       "      <td>2</td>\n",
       "      <td>1</td>\n",
       "      <td>1</td>\n",
       "      <td>1</td>\n",
       "      <td>1</td>\n",
       "      <td>2</td>\n",
       "    </tr>\n",
       "    <tr>\n",
       "      <th>695</th>\n",
       "      <td>888820</td>\n",
       "      <td>5</td>\n",
       "      <td>10</td>\n",
       "      <td>10</td>\n",
       "      <td>3</td>\n",
       "      <td>7</td>\n",
       "      <td>3</td>\n",
       "      <td>8</td>\n",
       "      <td>10</td>\n",
       "      <td>2</td>\n",
       "      <td>4</td>\n",
       "    </tr>\n",
       "    <tr>\n",
       "      <th>696</th>\n",
       "      <td>897471</td>\n",
       "      <td>4</td>\n",
       "      <td>8</td>\n",
       "      <td>6</td>\n",
       "      <td>4</td>\n",
       "      <td>3</td>\n",
       "      <td>4</td>\n",
       "      <td>10</td>\n",
       "      <td>6</td>\n",
       "      <td>1</td>\n",
       "      <td>4</td>\n",
       "    </tr>\n",
       "    <tr>\n",
       "      <th>697</th>\n",
       "      <td>897471</td>\n",
       "      <td>4</td>\n",
       "      <td>8</td>\n",
       "      <td>8</td>\n",
       "      <td>5</td>\n",
       "      <td>4</td>\n",
       "      <td>5</td>\n",
       "      <td>10</td>\n",
       "      <td>4</td>\n",
       "      <td>1</td>\n",
       "      <td>4</td>\n",
       "    </tr>\n",
       "  </tbody>\n",
       "</table>\n",
       "<p>698 rows × 11 columns</p>\n",
       "</div>"
      ],
      "text/plain": [
       "     1000025  5   1  1.1  1.2  2 1.3   3  1.4  1.5  2.1\n",
       "0    1002945  5   4    4    5  7  10   3    2    1    2\n",
       "1    1015425  3   1    1    1  2   2   3    1    1    2\n",
       "2    1016277  6   8    8    1  3   4   3    7    1    2\n",
       "3    1017023  4   1    1    3  2   1   3    1    1    2\n",
       "4    1017122  8  10   10    8  7  10   9    7    1    4\n",
       "..       ... ..  ..  ...  ... ..  ..  ..  ...  ...  ...\n",
       "693   776715  3   1    1    1  3   2   1    1    1    2\n",
       "694   841769  2   1    1    1  2   1   1    1    1    2\n",
       "695   888820  5  10   10    3  7   3   8   10    2    4\n",
       "696   897471  4   8    6    4  3   4  10    6    1    4\n",
       "697   897471  4   8    8    5  4   5  10    4    1    4\n",
       "\n",
       "[698 rows x 11 columns]"
      ]
     },
     "execution_count": 5,
     "metadata": {},
     "output_type": "execute_result"
    }
   ],
   "source": [
    "# View dataset.\n",
    "df"
   ]
  },
  {
   "cell_type": "code",
   "execution_count": 6,
   "id": "cd857046",
   "metadata": {},
   "outputs": [
    {
     "data": {
      "text/html": [
       "<div>\n",
       "<style scoped>\n",
       "    .dataframe tbody tr th:only-of-type {\n",
       "        vertical-align: middle;\n",
       "    }\n",
       "\n",
       "    .dataframe tbody tr th {\n",
       "        vertical-align: top;\n",
       "    }\n",
       "\n",
       "    .dataframe thead th {\n",
       "        text-align: right;\n",
       "    }\n",
       "</style>\n",
       "<table border=\"1\" class=\"dataframe\">\n",
       "  <thead>\n",
       "    <tr style=\"text-align: right;\">\n",
       "      <th></th>\n",
       "      <th>1000025</th>\n",
       "      <th>5</th>\n",
       "      <th>1</th>\n",
       "      <th>1.1</th>\n",
       "      <th>1.2</th>\n",
       "      <th>2</th>\n",
       "      <th>3</th>\n",
       "      <th>1.4</th>\n",
       "      <th>1.5</th>\n",
       "      <th>2.1</th>\n",
       "    </tr>\n",
       "  </thead>\n",
       "  <tbody>\n",
       "    <tr>\n",
       "      <th>count</th>\n",
       "      <td>6.980000e+02</td>\n",
       "      <td>698.000000</td>\n",
       "      <td>698.000000</td>\n",
       "      <td>698.000000</td>\n",
       "      <td>698.000000</td>\n",
       "      <td>698.000000</td>\n",
       "      <td>698.000000</td>\n",
       "      <td>698.000000</td>\n",
       "      <td>698.000000</td>\n",
       "      <td>698.000000</td>\n",
       "    </tr>\n",
       "    <tr>\n",
       "      <th>mean</th>\n",
       "      <td>1.071807e+06</td>\n",
       "      <td>4.416905</td>\n",
       "      <td>3.137536</td>\n",
       "      <td>3.210602</td>\n",
       "      <td>2.809456</td>\n",
       "      <td>3.217765</td>\n",
       "      <td>3.438395</td>\n",
       "      <td>2.869628</td>\n",
       "      <td>1.590258</td>\n",
       "      <td>2.690544</td>\n",
       "    </tr>\n",
       "    <tr>\n",
       "      <th>std</th>\n",
       "      <td>6.175323e+05</td>\n",
       "      <td>2.817673</td>\n",
       "      <td>3.052575</td>\n",
       "      <td>2.972867</td>\n",
       "      <td>2.856606</td>\n",
       "      <td>2.215408</td>\n",
       "      <td>2.440056</td>\n",
       "      <td>3.055004</td>\n",
       "      <td>1.716162</td>\n",
       "      <td>0.951596</td>\n",
       "    </tr>\n",
       "    <tr>\n",
       "      <th>min</th>\n",
       "      <td>6.163400e+04</td>\n",
       "      <td>1.000000</td>\n",
       "      <td>1.000000</td>\n",
       "      <td>1.000000</td>\n",
       "      <td>1.000000</td>\n",
       "      <td>1.000000</td>\n",
       "      <td>1.000000</td>\n",
       "      <td>1.000000</td>\n",
       "      <td>1.000000</td>\n",
       "      <td>2.000000</td>\n",
       "    </tr>\n",
       "    <tr>\n",
       "      <th>25%</th>\n",
       "      <td>8.702582e+05</td>\n",
       "      <td>2.000000</td>\n",
       "      <td>1.000000</td>\n",
       "      <td>1.000000</td>\n",
       "      <td>1.000000</td>\n",
       "      <td>2.000000</td>\n",
       "      <td>2.000000</td>\n",
       "      <td>1.000000</td>\n",
       "      <td>1.000000</td>\n",
       "      <td>2.000000</td>\n",
       "    </tr>\n",
       "    <tr>\n",
       "      <th>50%</th>\n",
       "      <td>1.171710e+06</td>\n",
       "      <td>4.000000</td>\n",
       "      <td>1.000000</td>\n",
       "      <td>1.000000</td>\n",
       "      <td>1.000000</td>\n",
       "      <td>2.000000</td>\n",
       "      <td>3.000000</td>\n",
       "      <td>1.000000</td>\n",
       "      <td>1.000000</td>\n",
       "      <td>2.000000</td>\n",
       "    </tr>\n",
       "    <tr>\n",
       "      <th>75%</th>\n",
       "      <td>1.238354e+06</td>\n",
       "      <td>6.000000</td>\n",
       "      <td>5.000000</td>\n",
       "      <td>5.000000</td>\n",
       "      <td>4.000000</td>\n",
       "      <td>4.000000</td>\n",
       "      <td>5.000000</td>\n",
       "      <td>4.000000</td>\n",
       "      <td>1.000000</td>\n",
       "      <td>4.000000</td>\n",
       "    </tr>\n",
       "    <tr>\n",
       "      <th>max</th>\n",
       "      <td>1.345435e+07</td>\n",
       "      <td>10.000000</td>\n",
       "      <td>10.000000</td>\n",
       "      <td>10.000000</td>\n",
       "      <td>10.000000</td>\n",
       "      <td>10.000000</td>\n",
       "      <td>10.000000</td>\n",
       "      <td>10.000000</td>\n",
       "      <td>10.000000</td>\n",
       "      <td>4.000000</td>\n",
       "    </tr>\n",
       "  </tbody>\n",
       "</table>\n",
       "</div>"
      ],
      "text/plain": [
       "            1000025           5           1         1.1         1.2  \\\n",
       "count  6.980000e+02  698.000000  698.000000  698.000000  698.000000   \n",
       "mean   1.071807e+06    4.416905    3.137536    3.210602    2.809456   \n",
       "std    6.175323e+05    2.817673    3.052575    2.972867    2.856606   \n",
       "min    6.163400e+04    1.000000    1.000000    1.000000    1.000000   \n",
       "25%    8.702582e+05    2.000000    1.000000    1.000000    1.000000   \n",
       "50%    1.171710e+06    4.000000    1.000000    1.000000    1.000000   \n",
       "75%    1.238354e+06    6.000000    5.000000    5.000000    4.000000   \n",
       "max    1.345435e+07   10.000000   10.000000   10.000000   10.000000   \n",
       "\n",
       "                2           3         1.4         1.5         2.1  \n",
       "count  698.000000  698.000000  698.000000  698.000000  698.000000  \n",
       "mean     3.217765    3.438395    2.869628    1.590258    2.690544  \n",
       "std      2.215408    2.440056    3.055004    1.716162    0.951596  \n",
       "min      1.000000    1.000000    1.000000    1.000000    2.000000  \n",
       "25%      2.000000    2.000000    1.000000    1.000000    2.000000  \n",
       "50%      2.000000    3.000000    1.000000    1.000000    2.000000  \n",
       "75%      4.000000    5.000000    4.000000    1.000000    4.000000  \n",
       "max     10.000000   10.000000   10.000000   10.000000    4.000000  "
      ]
     },
     "execution_count": 6,
     "metadata": {},
     "output_type": "execute_result"
    }
   ],
   "source": [
    "# Display summary of statistics.\n",
    "df.describe()"
   ]
  },
  {
   "cell_type": "code",
   "execution_count": 7,
   "id": "7378c729",
   "metadata": {},
   "outputs": [
    {
     "data": {
      "text/html": [
       "<div>\n",
       "<style scoped>\n",
       "    .dataframe tbody tr th:only-of-type {\n",
       "        vertical-align: middle;\n",
       "    }\n",
       "\n",
       "    .dataframe tbody tr th {\n",
       "        vertical-align: top;\n",
       "    }\n",
       "\n",
       "    .dataframe thead th {\n",
       "        text-align: right;\n",
       "    }\n",
       "</style>\n",
       "<table border=\"1\" class=\"dataframe\">\n",
       "  <thead>\n",
       "    <tr style=\"text-align: right;\">\n",
       "      <th></th>\n",
       "      <th>1000025</th>\n",
       "      <th>5</th>\n",
       "      <th>1</th>\n",
       "      <th>1.1</th>\n",
       "      <th>1.2</th>\n",
       "      <th>2</th>\n",
       "      <th>1.3</th>\n",
       "      <th>3</th>\n",
       "      <th>1.4</th>\n",
       "      <th>1.5</th>\n",
       "      <th>2.1</th>\n",
       "    </tr>\n",
       "  </thead>\n",
       "  <tbody>\n",
       "    <tr>\n",
       "      <th>0</th>\n",
       "      <td>1002945</td>\n",
       "      <td>5</td>\n",
       "      <td>4</td>\n",
       "      <td>4</td>\n",
       "      <td>5</td>\n",
       "      <td>7</td>\n",
       "      <td>10</td>\n",
       "      <td>3</td>\n",
       "      <td>2</td>\n",
       "      <td>1</td>\n",
       "      <td>2</td>\n",
       "    </tr>\n",
       "    <tr>\n",
       "      <th>1</th>\n",
       "      <td>1015425</td>\n",
       "      <td>3</td>\n",
       "      <td>1</td>\n",
       "      <td>1</td>\n",
       "      <td>1</td>\n",
       "      <td>2</td>\n",
       "      <td>2</td>\n",
       "      <td>3</td>\n",
       "      <td>1</td>\n",
       "      <td>1</td>\n",
       "      <td>2</td>\n",
       "    </tr>\n",
       "    <tr>\n",
       "      <th>2</th>\n",
       "      <td>1016277</td>\n",
       "      <td>6</td>\n",
       "      <td>8</td>\n",
       "      <td>8</td>\n",
       "      <td>1</td>\n",
       "      <td>3</td>\n",
       "      <td>4</td>\n",
       "      <td>3</td>\n",
       "      <td>7</td>\n",
       "      <td>1</td>\n",
       "      <td>2</td>\n",
       "    </tr>\n",
       "    <tr>\n",
       "      <th>3</th>\n",
       "      <td>1017023</td>\n",
       "      <td>4</td>\n",
       "      <td>1</td>\n",
       "      <td>1</td>\n",
       "      <td>3</td>\n",
       "      <td>2</td>\n",
       "      <td>1</td>\n",
       "      <td>3</td>\n",
       "      <td>1</td>\n",
       "      <td>1</td>\n",
       "      <td>2</td>\n",
       "    </tr>\n",
       "    <tr>\n",
       "      <th>4</th>\n",
       "      <td>1017122</td>\n",
       "      <td>8</td>\n",
       "      <td>10</td>\n",
       "      <td>10</td>\n",
       "      <td>8</td>\n",
       "      <td>7</td>\n",
       "      <td>10</td>\n",
       "      <td>9</td>\n",
       "      <td>7</td>\n",
       "      <td>1</td>\n",
       "      <td>4</td>\n",
       "    </tr>\n",
       "  </tbody>\n",
       "</table>\n",
       "</div>"
      ],
      "text/plain": [
       "   1000025  5   1  1.1  1.2  2 1.3  3  1.4  1.5  2.1\n",
       "0  1002945  5   4    4    5  7  10  3    2    1    2\n",
       "1  1015425  3   1    1    1  2   2  3    1    1    2\n",
       "2  1016277  6   8    8    1  3   4  3    7    1    2\n",
       "3  1017023  4   1    1    3  2   1  3    1    1    2\n",
       "4  1017122  8  10   10    8  7  10  9    7    1    4"
      ]
     },
     "execution_count": 7,
     "metadata": {},
     "output_type": "execute_result"
    }
   ],
   "source": [
    "# Display the top 5 rows to check data.\n",
    "df.head()"
   ]
  },
  {
   "cell_type": "code",
   "execution_count": 8,
   "id": "231c6912",
   "metadata": {},
   "outputs": [
    {
     "data": {
      "text/html": [
       "<div>\n",
       "<style scoped>\n",
       "    .dataframe tbody tr th:only-of-type {\n",
       "        vertical-align: middle;\n",
       "    }\n",
       "\n",
       "    .dataframe tbody tr th {\n",
       "        vertical-align: top;\n",
       "    }\n",
       "\n",
       "    .dataframe thead th {\n",
       "        text-align: right;\n",
       "    }\n",
       "</style>\n",
       "<table border=\"1\" class=\"dataframe\">\n",
       "  <thead>\n",
       "    <tr style=\"text-align: right;\">\n",
       "      <th></th>\n",
       "      <th>1000025</th>\n",
       "      <th>5</th>\n",
       "      <th>1</th>\n",
       "      <th>1.1</th>\n",
       "      <th>1.2</th>\n",
       "      <th>2</th>\n",
       "      <th>1.3</th>\n",
       "      <th>3</th>\n",
       "      <th>1.4</th>\n",
       "      <th>1.5</th>\n",
       "      <th>2.1</th>\n",
       "    </tr>\n",
       "  </thead>\n",
       "  <tbody>\n",
       "    <tr>\n",
       "      <th>693</th>\n",
       "      <td>776715</td>\n",
       "      <td>3</td>\n",
       "      <td>1</td>\n",
       "      <td>1</td>\n",
       "      <td>1</td>\n",
       "      <td>3</td>\n",
       "      <td>2</td>\n",
       "      <td>1</td>\n",
       "      <td>1</td>\n",
       "      <td>1</td>\n",
       "      <td>2</td>\n",
       "    </tr>\n",
       "    <tr>\n",
       "      <th>694</th>\n",
       "      <td>841769</td>\n",
       "      <td>2</td>\n",
       "      <td>1</td>\n",
       "      <td>1</td>\n",
       "      <td>1</td>\n",
       "      <td>2</td>\n",
       "      <td>1</td>\n",
       "      <td>1</td>\n",
       "      <td>1</td>\n",
       "      <td>1</td>\n",
       "      <td>2</td>\n",
       "    </tr>\n",
       "    <tr>\n",
       "      <th>695</th>\n",
       "      <td>888820</td>\n",
       "      <td>5</td>\n",
       "      <td>10</td>\n",
       "      <td>10</td>\n",
       "      <td>3</td>\n",
       "      <td>7</td>\n",
       "      <td>3</td>\n",
       "      <td>8</td>\n",
       "      <td>10</td>\n",
       "      <td>2</td>\n",
       "      <td>4</td>\n",
       "    </tr>\n",
       "    <tr>\n",
       "      <th>696</th>\n",
       "      <td>897471</td>\n",
       "      <td>4</td>\n",
       "      <td>8</td>\n",
       "      <td>6</td>\n",
       "      <td>4</td>\n",
       "      <td>3</td>\n",
       "      <td>4</td>\n",
       "      <td>10</td>\n",
       "      <td>6</td>\n",
       "      <td>1</td>\n",
       "      <td>4</td>\n",
       "    </tr>\n",
       "    <tr>\n",
       "      <th>697</th>\n",
       "      <td>897471</td>\n",
       "      <td>4</td>\n",
       "      <td>8</td>\n",
       "      <td>8</td>\n",
       "      <td>5</td>\n",
       "      <td>4</td>\n",
       "      <td>5</td>\n",
       "      <td>10</td>\n",
       "      <td>4</td>\n",
       "      <td>1</td>\n",
       "      <td>4</td>\n",
       "    </tr>\n",
       "  </tbody>\n",
       "</table>\n",
       "</div>"
      ],
      "text/plain": [
       "     1000025  5   1  1.1  1.2  2 1.3   3  1.4  1.5  2.1\n",
       "693   776715  3   1    1    1  3   2   1    1    1    2\n",
       "694   841769  2   1    1    1  2   1   1    1    1    2\n",
       "695   888820  5  10   10    3  7   3   8   10    2    4\n",
       "696   897471  4   8    6    4  3   4  10    6    1    4\n",
       "697   897471  4   8    8    5  4   5  10    4    1    4"
      ]
     },
     "execution_count": 8,
     "metadata": {},
     "output_type": "execute_result"
    }
   ],
   "source": [
    "# Display the last 5 rows to verify data.\n",
    "df.tail()"
   ]
  },
  {
   "cell_type": "markdown",
   "id": "36e691e2",
   "metadata": {},
   "source": [
    "<br>\n",
    "\n",
    "#### Assumption 1: Dependent variable\n",
    "\n",
    "***"
   ]
  },
  {
   "cell_type": "code",
   "execution_count": 9,
   "id": "f0af28ff",
   "metadata": {},
   "outputs": [
    {
     "data": {
      "text/plain": [
       "0      1002945\n",
       "1      1015425\n",
       "2      1016277\n",
       "3      1017023\n",
       "4      1017122\n",
       "        ...   \n",
       "693     776715\n",
       "694     841769\n",
       "695     888820\n",
       "696     897471\n",
       "697     897471\n",
       "Name: 1000025, Length: 698, dtype: int64"
      ]
     },
     "execution_count": 9,
     "metadata": {},
     "output_type": "execute_result"
    }
   ],
   "source": [
    "# The dependent variable has value ID number.\n",
    "dependent = df['1000025']\n",
    "dependent"
   ]
  },
  {
   "cell_type": "code",
   "execution_count": 10,
   "id": "af6a3611",
   "metadata": {},
   "outputs": [
    {
     "data": {
      "text/plain": [
       "count    6.980000e+02\n",
       "mean     1.071807e+06\n",
       "std      6.175323e+05\n",
       "min      6.163400e+04\n",
       "25%      8.702582e+05\n",
       "50%      1.171710e+06\n",
       "75%      1.238354e+06\n",
       "max      1.345435e+07\n",
       "Name: 1000025, dtype: float64"
      ]
     },
     "execution_count": 10,
     "metadata": {},
     "output_type": "execute_result"
    }
   ],
   "source": [
    "dependent.describe()"
   ]
  },
  {
   "cell_type": "code",
   "execution_count": 11,
   "id": "cb344686",
   "metadata": {},
   "outputs": [
    {
     "data": {
      "text/plain": [
       "0      5\n",
       "1      3\n",
       "2      6\n",
       "3      4\n",
       "4      8\n",
       "      ..\n",
       "693    3\n",
       "694    2\n",
       "695    5\n",
       "696    4\n",
       "697    4\n",
       "Name: 5, Length: 698, dtype: int64"
      ]
     },
     "execution_count": 11,
     "metadata": {},
     "output_type": "execute_result"
    }
   ],
   "source": [
    "# Independent variable has attribute diagnosis( M= malignant, B= benign) 3-32)\n",
    "independent = df['5']\n",
    "independent"
   ]
  },
  {
   "cell_type": "markdown",
   "id": "0dc38909",
   "metadata": {},
   "source": [
    "<br>\n",
    "\n",
    "#### Assumption 4: Outliers\n",
    "\n",
    "***"
   ]
  },
  {
   "cell_type": "code",
   "execution_count": 12,
   "id": "2b70b771",
   "metadata": {},
   "outputs": [
    {
     "data": {
      "image/png": "[encoded data removed]",
      "text/plain": [
       "<Figure size 432x288 with 1 Axes>"
      ]
     },
     "metadata": {
      "needs_background": "light"
     },
     "output_type": "display_data"
    }
   ],
   "source": [
    "# https://seaborn.pydata.org/generated/seaborn.boxplot.html\n",
    "sns.boxplot(x=dependent, y=independent)\n",
    "\n",
    "# The Seaborn plot title and labels.\n",
    "# ID Number is represented by the value 1000025 and Diagnosis is represented by the element \"5\"\n",
    "# Set title.\n",
    "plt.title('ID Number vs Diagnosis')\n",
    "# Set labels\n",
    "plt.xlabel('ID number: 1000025')\n",
    "plt.ylabel('Diagnosis: 5')\n",
    "\n",
    "# Display the plot.\n",
    "plt.show()"
   ]
  },
  {
   "cell_type": "markdown",
   "id": "d6759acb",
   "metadata": {},
   "source": [
    "<br>\n",
    "\n",
    "#### Assumption 5: Normality\n",
    "https://docs.scipy.org/doc/scipy/reference/generated/scipy.stats.shapiro.html\n",
    "\n",
    "https://statistics.laerd.com/spss-tutorials/testing-for-normality-using-spss-statistics.php\n",
    "\n",
    "***"
   ]
  },
  {
   "cell_type": "code",
   "execution_count": 14,
   "id": "5c4dce88",
   "metadata": {},
   "outputs": [
    {
     "data": {
      "text/plain": [
       "<seaborn.axisgrid.FacetGrid at 0x28cca7f4070>"
      ]
     },
     "execution_count": 14,
     "metadata": {},
     "output_type": "execute_result"
    },
    {
     "data": {
      "image/png": "[encoded data removed]",
      "text/plain": [
       "<Figure size 408.75x360 with 1 Axes>"
      ]
     },
     "metadata": {},
     "output_type": "display_data"
    }
   ],
   "source": [
    "# KDEs of the diagnosis(Benign and Malignant) attribute scoring from 1 to 10 .\n",
    "sns.displot(x=dependent, hue=independent, kind=\"kde\")"
   ]
  },
  {
   "cell_type": "code",
   "execution_count": 15,
   "id": "86bd44fc",
   "metadata": {},
   "outputs": [
    {
     "data": {
      "text/plain": [
       "0      1002945\n",
       "11     1041801\n",
       "24     1065726\n",
       "26     1066979\n",
       "37     1084584\n",
       "        ...   \n",
       "676    1368267\n",
       "680    1371026\n",
       "681    1371920\n",
       "690     695091\n",
       "695     888820\n",
       "Name: 1000025, Length: 129, dtype: int64"
      ]
     },
     "execution_count": 15,
     "metadata": {},
     "output_type": "execute_result"
    }
   ],
   "source": [
    "# Extract the diagnosis scored 5 of all ID number.\n",
    "diagnosis_cancer_benign = dependent[independent == 5]\n",
    "diagnosis_cancer_benign\n"
   ]
  },
  {
   "cell_type": "code",
   "execution_count": 16,
   "id": "17bd1720",
   "metadata": {},
   "outputs": [
    {
     "data": {
      "text/plain": [
       "ShapiroResult(statistic=0.809876024723053, pvalue=1.235640843116892e-11)"
      ]
     },
     "execution_count": 16,
     "metadata": {},
     "output_type": "execute_result"
    }
   ],
   "source": [
    "# Run the Shapiro-Wilk test.\n",
    "ss.shapiro(diagnosis_cancer_benign)"
   ]
  },
  {
   "cell_type": "code",
   "execution_count": 17,
   "id": "ffb7ece8",
   "metadata": {},
   "outputs": [
    {
     "data": {
      "text/plain": [
       "17     1050670\n",
       "20     1054593\n",
       "31     1072179\n",
       "35     1080185\n",
       "40     1099510\n",
       "        ...   \n",
       "591    1298484\n",
       "604     352431\n",
       "609     736150\n",
       "635    1268952\n",
       "679    1369821\n",
       "Name: 1000025, Length: 69, dtype: int64"
      ]
     },
     "execution_count": 17,
     "metadata": {},
     "output_type": "execute_result"
    }
   ],
   "source": [
    "# Extract the diagnosis scored 10 of all ID number.\n",
    "diagnosis_cancer_malignant = dependent[independent == 10]\n",
    "diagnosis_cancer_malignant"
   ]
  },
  {
   "cell_type": "code",
   "execution_count": 18,
   "id": "96efb478",
   "metadata": {},
   "outputs": [
    {
     "data": {
      "text/plain": [
       "ShapiroResult(statistic=0.8075897693634033, pvalue=4.5117030111896383e-08)"
      ]
     },
     "execution_count": 18,
     "metadata": {},
     "output_type": "execute_result"
    }
   ],
   "source": [
    "# Run the test for the diagnosis malignant.\n",
    "ss.shapiro(dependent[independent == 10])"
   ]
  },
  {
   "cell_type": "markdown",
   "id": "21c89779",
   "metadata": {},
   "source": [
    "#### Assumption 6: Homogeneity of Variances\n",
    "\n",
    "https://docs.scipy.org/doc/scipy/reference/generated/scipy.stats.levene.html\n",
    "\n",
    "https://statistics.laerd.com/statistical-guides/independent-t-test-statistical-guide.php\n",
    "\n",
    "***"
   ]
  },
  {
   "cell_type": "code",
   "execution_count": 19,
   "id": "d249199c",
   "metadata": {},
   "outputs": [
    {
     "data": {
      "text/plain": [
       "LeveneResult(statistic=1.134152794329075, pvalue=0.2882014511428882)"
      ]
     },
     "execution_count": 19,
     "metadata": {},
     "output_type": "execute_result"
    }
   ],
   "source": [
    "# Test for equal variances.\n",
    "ss.levene(\n",
    "    dependent[independent == 5],\n",
    "    dependent[independent == 10])\n",
    "    "
   ]
  },
  {
   "cell_type": "markdown",
   "id": "af49ac6c",
   "metadata": {},
   "source": [
    "**Conclusion:** the mean diagnosis of M = malignant and B = benign of breast cancers are different."
   ]
  },
  {
   "cell_type": "markdown",
   "id": "1ce542a3",
   "metadata": {},
   "source": [
    "<br>\n",
    "\n",
    "## Unequal Variances\n",
    "\n",
    "https://github.com/scipy/scipy/issues/11122#issuecomment-587964214\n",
    "\n",
    "***"
   ]
  },
  {
   "cell_type": "code",
   "execution_count": 20,
   "id": "4b9161b3",
   "metadata": {},
   "outputs": [],
   "source": [
    "def welch_anova_np(*args, var_equal=False):\n",
    "    # https://svn.r-project.org/R/trunk/src/library/stats/R/oneway.test.R\n",
    "    # translated from R Welch ANOVA (not assuming equal variance)\n",
    "\n",
    "    F_onewayResult = co.namedtuple('F_onewayResult', ('statistic', 'pvalue'))\n",
    "\n",
    "    args = [np.asarray(arg, dtype=float) for arg in args]\n",
    "    k = len(args)\n",
    "    ni = np.array([len(arg) for arg in args])\n",
    "    mi = np.array([np.mean(arg) for arg in args])\n",
    "    vi = np.array([np.var(arg,ddof=1) for arg in args])\n",
    "    wi = ni/vi\n",
    "\n",
    "    tmp =sum((1-wi/sum(wi))**2 / (ni-1))\n",
    "    tmp /= (k**2 -1)\n",
    "\n",
    "    dfbn = k - 1\n",
    "    dfwn = 1 / (3 * tmp)\n",
    "\n",
    "    m = sum(mi*wi) / sum(wi)\n",
    "    f = sum(wi * (mi - m)**2) /((dfbn) * (1 + 2 * (dfbn - 1) * tmp))\n",
    "    prob = spec.fdtrc(dfbn, dfwn, f)   # equivalent to stats.f.sf\n",
    "    return F_onewayResult(f, prob)"
   ]
  },
  {
   "cell_type": "code",
   "execution_count": 21,
   "id": "9d1655db",
   "metadata": {},
   "outputs": [
    {
     "data": {
      "text/plain": [
       "F_onewayResult(statistic=2.682421229052424, pvalue=0.10401201109440378)"
      ]
     },
     "execution_count": 21,
     "metadata": {},
     "output_type": "execute_result"
    }
   ],
   "source": [
    "# Perform the test.\n",
    "welch_anova_np(\n",
    "    dependent[independent == 5],\n",
    "    dependent[independent == 10])"
   ]
  },
  {
   "cell_type": "markdown",
   "id": "eea89580",
   "metadata": {},
   "source": [
    "**Conclusion:** the mean diagnosis of M = malignant and B = benign of breast cancers are different."
   ]
  },
  {
   "cell_type": "markdown",
   "id": "e76aed66",
   "metadata": {},
   "source": [
    " <br>\n",
    " \n",
    " ## Part III\n",
    " \n",
    " ### Plots and Other Visualisations\n",
    " \n",
    " ***"
   ]
  },
  {
   "cell_type": "markdown",
   "id": "1babd1dd",
   "metadata": {},
   "source": [
    "### seaborn.boxplot\n",
    "\n",
    "https://seaborn.pydata.org/generated/seaborn.boxplot.html?highlight=boxplot#seaborn.boxplot\n",
    "\n",
    "seaborn.boxplot(*, x=None, y=None, hue=None, data=None, order=None, hue_order=None, orient=None, color=None, palette=None, saturation=0.75, width=0.8, dodge=True, fliersize=5, linewidth=None, whis=1.5, ax=None, **kwargs)\n"
   ]
  },
  {
   "cell_type": "markdown",
   "id": "fe30e9ce",
   "metadata": {},
   "source": [
    "#### Draw a single horizontal boxplot:"
   ]
  },
  {
   "cell_type": "code",
   "execution_count": 5,
   "id": "c4c575e0",
   "metadata": {},
   "outputs": [
    {
     "data": {
      "image/png": "[encoded data removed]",
      "text/plain": [
       "<Figure size 864x576 with 1 Axes>"
      ]
     },
     "metadata": {},
     "output_type": "display_data"
    }
   ],
   "source": [
    "import seaborn as sns\n",
    "sns.set_theme(style=\"whitegrid\")\n",
    "tips = sns.load_dataset(\"tips\")\n",
    "ax = sns.boxplot(x=tips[\"total_bill\"])\n"
   ]
  },
  {
   "cell_type": "markdown",
   "id": "394a81fa",
   "metadata": {},
   "source": [
    "#### Draw a vertical boxplot grouped by a categorical variable:"
   ]
  },
  {
   "cell_type": "code",
   "execution_count": 23,
   "id": "b3ea5e5d",
   "metadata": {},
   "outputs": [
    {
     "data": {
      "image/png": "[encoded data removed]",
      "text/plain": [
       "<Figure size 864x576 with 1 Axes>"
      ]
     },
     "metadata": {},
     "output_type": "display_data"
    }
   ],
   "source": [
    "ax = sns.boxplot(x=\"day\", y=\"total_bill\", data=tips)"
   ]
  },
  {
   "cell_type": "markdown",
   "id": "42f93abb",
   "metadata": {},
   "source": [
    "#### Draw a boxplot with nested grouping by two categorical variables:"
   ]
  },
  {
   "cell_type": "code",
   "execution_count": 24,
   "id": "27d636e9",
   "metadata": {},
   "outputs": [
    {
     "data": {
      "image/png": "[encoded data removed]",
      "text/plain": [
       "<Figure size 864x576 with 1 Axes>"
      ]
     },
     "metadata": {},
     "output_type": "display_data"
    }
   ],
   "source": [
    "ax = sns.boxplot(x=\"day\", y=\"total_bill\", hue=\"smoker\",\n",
    "                 data=tips, palette=\"Set3\")"
   ]
  },
  {
   "cell_type": "markdown",
   "id": "2fd85844",
   "metadata": {},
   "source": [
    "#### Draw a boxplot with nested grouping when some bins are empty:"
   ]
  },
  {
   "cell_type": "code",
   "execution_count": 25,
   "id": "32cb1844",
   "metadata": {},
   "outputs": [
    {
     "data": {
      "image/png": "[encoded data removed]",
      "text/plain": [
       "<Figure size 864x576 with 1 Axes>"
      ]
     },
     "metadata": {},
     "output_type": "display_data"
    }
   ],
   "source": [
    "ax = sns.boxplot(x=\"day\", y=\"total_bill\", hue=\"time\",\n",
    "                 data=tips, linewidth=2.5)"
   ]
  },
  {
   "cell_type": "markdown",
   "id": "607af0d6",
   "metadata": {},
   "source": [
    "#### Control box order by passing an explicit order:"
   ]
  },
  {
   "cell_type": "code",
   "execution_count": 26,
   "id": "ec3012ad",
   "metadata": {},
   "outputs": [
    {
     "data": {
      "image/png": "[encoded data removed]",
      "text/plain": [
       "<Figure size 864x576 with 1 Axes>"
      ]
     },
     "metadata": {},
     "output_type": "display_data"
    }
   ],
   "source": [
    "ax = sns.boxplot(x=\"time\", y=\"tip\", data=tips,\n",
    "                 order=[\"Dinner\", \"Lunch\"])"
   ]
  },
  {
   "cell_type": "markdown",
   "id": "ce193176",
   "metadata": {},
   "source": [
    "#### Use hue without changing box position or width:"
   ]
  },
  {
   "cell_type": "code",
   "execution_count": 27,
   "id": "cd6756ea",
   "metadata": {},
   "outputs": [
    {
     "data": {
      "image/png": "[encoded data removed]",
      "text/plain": [
       "<Figure size 864x576 with 1 Axes>"
      ]
     },
     "metadata": {},
     "output_type": "display_data"
    }
   ],
   "source": [
    "tips[\"weekend\"] = tips[\"day\"].isin([\"Sat\", \"Sun\"])\n",
    "ax = sns.boxplot(x=\"day\", y=\"total_bill\", hue=\"weekend\",\n",
    "                 data=tips, dodge=False)"
   ]
  },
  {
   "cell_type": "markdown",
   "id": "77941942",
   "metadata": {},
   "source": [
    "#### Use swarmplot() to show the datapoints on top of the boxes:"
   ]
  },
  {
   "cell_type": "code",
   "execution_count": 28,
   "id": "23ac0ed9",
   "metadata": {},
   "outputs": [
    {
     "data": {
      "image/png": "[encoded data removed]",
      "text/plain": [
       "<Figure size 864x576 with 1 Axes>"
      ]
     },
     "metadata": {},
     "output_type": "display_data"
    }
   ],
   "source": [
    "ax = sns.boxplot(x=\"day\", y=\"total_bill\", data=tips)\n",
    "ax = sns.swarmplot(x=\"day\", y=\"total_bill\", data=tips, color=\".25\")"
   ]
  },
  {
   "cell_type": "markdown",
   "id": "b0d69bc6",
   "metadata": {},
   "source": [
    "#### Use catplot() to combine a boxplot() and a FacetGrid. \n",
    "This allows grouping within additional categorical variables. Using catplot() is safer than using FacetGrid directly, as it ensures synchronization of variable order across facets:"
   ]
  },
  {
   "cell_type": "code",
   "execution_count": 29,
   "id": "f3e8e690",
   "metadata": {},
   "outputs": [
    {
     "data": {
      "image/png": "[encoded data removed]",
      "text/plain": [
       "<Figure size 460.675x288 with 2 Axes>"
      ]
     },
     "metadata": {},
     "output_type": "display_data"
    }
   ],
   "source": [
    "g = sns.catplot(x=\"sex\", y=\"total_bill\",\n",
    "                hue=\"smoker\", col=\"time\",\n",
    "                data=tips, kind=\"box\",\n",
    "                height=4, aspect=.7);"
   ]
  },
  {
   "cell_type": "markdown",
   "id": "288e176e",
   "metadata": {},
   "source": [
    "*** \n",
    "## End"
   ]
  }
 ],
 "metadata": {
  "kernelspec": {
   "display_name": "Python 3",
   "language": "python",
   "name": "python3"
  },
  "language_info": {
   "codemirror_mode": {
    "name": "ipython",
    "version": 3
   },
   "file_extension": ".py",
   "mimetype": "text/x-python",
   "name": "python",
   "nbconvert_exporter": "python",
   "pygments_lexer": "ipython3",
   "version": "3.8.8"
  }
 },
 "nbformat": 4,
 "nbformat_minor": 5
}
